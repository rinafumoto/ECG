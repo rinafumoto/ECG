{
 "cells": [
  {
   "cell_type": "code",
   "execution_count": 13,
   "id": "a6e5e6f6",
   "metadata": {},
   "outputs": [],
   "source": [
    "import pandas as pd\n",
    "import matplotlib.pyplot as plt\n",
    "from tensorflow import keras\n",
    "import numpy as np\n",
    "import pickle\n",
    "from sklearn.utils import resample"
   ]
  },
  {
   "cell_type": "code",
   "execution_count": 14,
   "id": "fc575196",
   "metadata": {},
   "outputs": [],
   "source": [
    "PTB_n = pd.read_csv('../data/ptbdb_normal.csv', header=None)\n",
    "PTB_a = pd.read_csv('../data/ptbdb_abnormal.csv', header=None)"
   ]
  },
  {
   "cell_type": "code",
   "execution_count": 15,
   "id": "e94396ac",
   "metadata": {},
   "outputs": [],
   "source": [
    "ptb_raw = pd.concat([PTB_n, PTB_a], axis=0).sample(frac=1, axis=0)"
   ]
  },
  {
   "cell_type": "code",
   "execution_count": 16,
   "id": "4b3dced9",
   "metadata": {},
   "outputs": [],
   "source": [
    "test_df_PTB = ptb_raw[0:len(ptb_raw)//10]\n",
    "train_df_PTB = ptb_raw[len(ptb_raw)//10:]"
   ]
  },
  {
   "cell_type": "code",
   "execution_count": 17,
   "id": "72f45ffe",
   "metadata": {},
   "outputs": [],
   "source": [
    "shuffled_train = train_df_PTB.sample(frac=1, axis=0).values\n",
    "\n",
    "x_train_PTB = shuffled_train[:, :-1]\n",
    "y_train_PTB = shuffled_train[:, 187].astype(int)\n",
    "\n",
    "\n",
    "shuffled_test = test_df_PTB.sample(frac=1, axis=0).values\n",
    "\n",
    "x_test_PTB = shuffled_test[:, :-1]\n",
    "y_test_PTB = shuffled_test[:, 187].astype(int)"
   ]
  },
  {
   "cell_type": "code",
   "execution_count": 18,
   "id": "cea1d465",
   "metadata": {},
   "outputs": [],
   "source": [
    "TRAIN_SET_PTB = '../PTB_train_set.pickle'\n",
    "TEST_SET_PTB = '../PTB_test_set.pickle'\n",
    "\n",
    "with open(TRAIN_SET_PTB, 'wb') as file:\n",
    "    pickle.dump({'x': x_train_PTB, 'y': y_train_PTB}, file)\n",
    "\n",
    "with open(TEST_SET_PTB, 'wb') as file:\n",
    "    pickle.dump({'x': x_test_PTB, 'y': y_test_PTB}, file)"
   ]
  },
  {
   "cell_type": "code",
   "execution_count": 29,
   "id": "d460145a",
   "metadata": {},
   "outputs": [],
   "source": [
    "train_df_MITBIH = MITBIH_a = pd.read_csv('../data/mitbih_train.csv', header=None)\n",
    "test_df_MITBIH  = MITBIH_b = pd.read_csv('../data/mitbih_test.csv', header=None)"
   ]
  },
  {
   "cell_type": "code",
   "execution_count": 20,
   "id": "9ec241d7",
   "metadata": {},
   "outputs": [],
   "source": [
    "\"\"\"\n",
    "MITBIH_raw = pd.concat([MITBIH_a, MITBIH_b], axis=0).sample(frac=1, axis=0)\n",
    "test_df_MITBIH  = MITBIH_raw[0:len(MITBIH_raw)//10]\n",
    "train_df_MITBIH = MITBIH_raw[len(MITBIH_raw)//10:]\n",
    "\"\"\""
   ]
  },
  {
   "cell_type": "code",
   "execution_count": 30,
   "id": "81815022",
   "metadata": {},
   "outputs": [],
   "source": [
    "df_1 = train_df_MITBIH[train_df_MITBIH[187] == 1]\n",
    "df_2 = train_df_MITBIH[train_df_MITBIH[187] == 2]\n",
    "df_3 = train_df_MITBIH[train_df_MITBIH[187] == 3]\n",
    "df_4 = train_df_MITBIH[train_df_MITBIH[187] == 4]\n",
    "df_0 = (train_df_MITBIH[train_df_MITBIH[187] == 0]).sample(n=20000, random_state=42)\n",
    "\n",
    "df_1_upsample = resample(df_1, replace=True, n_samples=20000, random_state=123)\n",
    "df_2_upsample = resample(df_2, replace=True, n_samples=20000, random_state=124)\n",
    "df_3_upsample = resample(df_3, replace=True, n_samples=20000, random_state=125)\n",
    "df_4_upsample = resample(df_4, replace=True, n_samples=20000, random_state=126)\n",
    "\n",
    "train_df_MITBIH = pd.concat([df_0, df_1_upsample, df_2_upsample, df_3_upsample, df_4_upsample])"
   ]
  },
  {
   "cell_type": "code",
   "execution_count": 31,
   "id": "4635dcda",
   "metadata": {},
   "outputs": [],
   "source": [
    "df_1 = test_df_MITBIH[test_df_MITBIH[187] == 1]\n",
    "df_2 = test_df_MITBIH[test_df_MITBIH[187] == 2]\n",
    "df_3 = test_df_MITBIH[test_df_MITBIH[187] == 3]\n",
    "df_4 = test_df_MITBIH[test_df_MITBIH[187] == 4]\n",
    "df_0 = (test_df_MITBIH[test_df_MITBIH[187] == 0]).sample(n=2000, random_state=42)\n",
    "\n",
    "df_1_upsample = resample(df_1, replace=True, n_samples=2000, random_state=123)\n",
    "df_2_upsample = resample(df_2, replace=True, n_samples=2000, random_state=124)\n",
    "df_3_upsample = resample(df_3, replace=True, n_samples=2000, random_state=125)\n",
    "df_4_upsample = resample(df_4, replace=True, n_samples=2000, random_state=126)\n",
    "\n",
    "test_df_MITBIH = pd.concat([df_0, df_1_upsample, df_2_upsample, df_3_upsample, df_4_upsample])"
   ]
  },
  {
   "cell_type": "code",
   "execution_count": 32,
   "id": "0774794f",
   "metadata": {},
   "outputs": [
    {
     "name": "stdout",
     "output_type": "stream",
     "text": [
      "100000\n",
      "10000\n"
     ]
    }
   ],
   "source": [
    "print(len(train_df_MITBIH))\n",
    "print(len(test_df_MITBIH))"
   ]
  },
  {
   "cell_type": "code",
   "execution_count": 28,
   "id": "e194c9f3",
   "metadata": {},
   "outputs": [
    {
     "name": "stdout",
     "output_type": "stream",
     "text": [
      "100000\n",
      "21892\n"
     ]
    }
   ],
   "source": [
    "print(len(train_df_MITBIH))\n",
    "print(len(test_df_MITBIH))"
   ]
  },
  {
   "cell_type": "code",
   "execution_count": 25,
   "id": "a2ee5432",
   "metadata": {},
   "outputs": [
    {
     "name": "stdout",
     "output_type": "stream",
     "text": [
      "100000\n",
      "10944\n"
     ]
    }
   ],
   "source": [
    "print(len(train_df_MITBIH))\n",
    "print(len(test_df_MITBIH))"
   ]
  },
  {
   "cell_type": "code",
   "execution_count": 33,
   "id": "7f0b2a4a",
   "metadata": {},
   "outputs": [],
   "source": [
    "shuffled_train = train_df_MITBIH.sample(frac=1, axis=0).values\n",
    "\n",
    "x_train_MITBIH = shuffled_train[:, :-1]\n",
    "y_train_MITBIH = shuffled_train[:, 187].astype(int)\n",
    "\n",
    "\n",
    "shuffled_test = test_df_MITBIH.sample(frac=1, axis=0).values\n",
    "\n",
    "x_test_MITBIH = shuffled_test[:, :-1]\n",
    "y_test_MITBIH = shuffled_test[:, 187].astype(int)"
   ]
  },
  {
   "cell_type": "code",
   "execution_count": 34,
   "id": "a412fedc",
   "metadata": {},
   "outputs": [],
   "source": [
    "TRAIN_SET_MIT = '../MIT_train_set.pickle'\n",
    "TEST_SET_MIT = '../MIT_test_set.pickle'\n",
    "\n",
    "with open(TRAIN_SET_MIT, 'wb') as file:\n",
    "    pickle.dump({'x': x_train_MITBIH, 'y': y_train_MITBIH}, file)\n",
    "\n",
    "with open(TEST_SET_MIT, 'wb') as file:\n",
    "    pickle.dump({'x': x_test_MITBIH, 'y': y_test_MITBIH}, file)"
   ]
  },
  {
   "cell_type": "code",
   "execution_count": null,
   "id": "044bc0fb",
   "metadata": {},
   "outputs": [],
   "source": []
  }
 ],
 "metadata": {
  "kernelspec": {
   "display_name": "Python 3",
   "language": "python",
   "name": "python3"
  },
  "language_info": {
   "codemirror_mode": {
    "name": "ipython",
    "version": 3
   },
   "file_extension": ".py",
   "mimetype": "text/x-python",
   "name": "python",
   "nbconvert_exporter": "python",
   "pygments_lexer": "ipython3",
   "version": "3.8.8"
  }
 },
 "nbformat": 4,
 "nbformat_minor": 5
}
