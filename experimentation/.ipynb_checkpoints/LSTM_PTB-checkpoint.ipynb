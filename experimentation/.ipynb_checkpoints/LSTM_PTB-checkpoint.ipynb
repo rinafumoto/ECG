{
 "cells": [
  {
   "cell_type": "code",
   "execution_count": 1,
   "metadata": {
    "id": "RcF_gAiwwehF"
   },
   "outputs": [],
   "source": [
    "import pandas as pd\n",
    "\n",
    "normal = pd.read_csv('../data/ptbdb_normal.csv', header = None)\n",
    "abnormal = pd.read_csv('../data/ptbdb_abnormal.csv', header = None)"
   ]
  },
  {
   "cell_type": "code",
   "execution_count": 2,
   "metadata": {
    "colab": {
     "base_uri": "https://localhost:8080/"
    },
    "id": "n04AVtV4tjJy",
    "outputId": "4f929068-64c5-4056-99ac-44a172cbe616"
   },
   "outputs": [
    {
     "name": "stdout",
     "output_type": "stream",
     "text": [
      "(4046, 187)\n",
      "(10506, 187)\n"
     ]
    }
   ],
   "source": [
    "x_normal = normal.iloc[:,:-1]\n",
    "x_abnormal = abnormal.iloc[:,:-1]\n",
    "print(x_normal.shape)\n",
    "print(x_abnormal.shape)"
   ]
  },
  {
   "cell_type": "code",
   "execution_count": 3,
   "metadata": {
    "colab": {
     "base_uri": "https://localhost:8080/"
    },
    "id": "CbLLtb3oZuIr",
    "outputId": "0d336632-e4c2-4d6f-8729-38c79bc08c6b"
   },
   "outputs": [
    {
     "name": "stdout",
     "output_type": "stream",
     "text": [
      "(4046, 1)\n",
      "(10506, 1)\n"
     ]
    }
   ],
   "source": [
    "import numpy as np\n",
    "\n",
    "y_normal = np.zeros((normal.shape[0]))\n",
    "y_normal = pd.DataFrame(y_normal)\n",
    "y_abnormal = np.ones((abnormal.shape[0]))\n",
    "y_abnormal = pd.DataFrame(y_abnormal)\n",
    "print(y_normal.shape)\n",
    "print(y_abnormal.shape)"
   ]
  },
  {
   "cell_type": "code",
   "execution_count": 4,
   "metadata": {
    "colab": {
     "base_uri": "https://localhost:8080/"
    },
    "id": "qwmZFKA4hfgu",
    "outputId": "4c12a1d2-8f44-4265-ef5b-5b36e27974e0"
   },
   "outputs": [
    {
     "name": "stdout",
     "output_type": "stream",
     "text": [
      "(14552, 187)\n",
      "(14552, 1)\n"
     ]
    }
   ],
   "source": [
    "x = pd.concat([x_normal, x_abnormal], sort=True)\n",
    "y = pd.concat([y_normal, y_abnormal] ,sort=True)\n",
    "print(x.shape)\n",
    "print(y.shape)"
   ]
  },
  {
   "cell_type": "code",
   "execution_count": 5,
   "metadata": {
    "id": "VTMQAJb9hqty"
   },
   "outputs": [],
   "source": [
    "from sklearn.model_selection import train_test_split\n",
    "x_train, x_test, y_train, y_test = train_test_split(x, y, test_size=0.2, random_state=42)"
   ]
  },
  {
   "cell_type": "code",
   "execution_count": 6,
   "metadata": {
    "id": "gAOeSV6WursK"
   },
   "outputs": [],
   "source": [
    "x_train = x_train.to_numpy()\n",
    "x_test = x_test.to_numpy()\n",
    "y_train = y_train.to_numpy()\n",
    "y_test = y_test.to_numpy()"
   ]
  },
  {
   "cell_type": "code",
   "execution_count": 7,
   "metadata": {
    "colab": {
     "base_uri": "https://localhost:8080/"
    },
    "id": "0KKQIIIQ8piP",
    "outputId": "6176bd29-e887-4895-fded-b02a575ef096"
   },
   "outputs": [
    {
     "name": "stdout",
     "output_type": "stream",
     "text": [
      "(11641, 187, 1)\n",
      "(11641, 1)\n"
     ]
    }
   ],
   "source": [
    "import numpy as np\n",
    "\n",
    "x_train = np.reshape(x_train, (len(x_train),187,1))\n",
    "print(x_train.shape)\n",
    "print(y_train.shape)"
   ]
  },
  {
   "cell_type": "code",
   "execution_count": 8,
   "metadata": {
    "colab": {
     "base_uri": "https://localhost:8080/"
    },
    "id": "51TT8sowwkWu",
    "outputId": "aa272c26-706c-49ce-bcbd-32341580bac5"
   },
   "outputs": [
    {
     "name": "stdout",
     "output_type": "stream",
     "text": [
      "(2911, 187, 1)\n",
      "(2911, 1)\n"
     ]
    }
   ],
   "source": [
    "x_test = np.reshape(x_test, (len(x_test),187,1))\n",
    "print(x_test.shape)\n",
    "print(y_test.shape)"
   ]
  },
  {
   "cell_type": "code",
   "execution_count": 9,
   "metadata": {
    "colab": {
     "base_uri": "https://localhost:8080/"
    },
    "id": "r365L1kxv3FW",
    "outputId": "7a137976-ada1-47cf-c1c3-492d2463f99d"
   },
   "outputs": [
    {
     "name": "stdout",
     "output_type": "stream",
     "text": [
      "Model: \"sequential\"\n",
      "_________________________________________________________________\n",
      "Layer (type)                 Output Shape              Param #   \n",
      "=================================================================\n",
      "lstm (LSTM)                  (None, 64)                16896     \n",
      "_________________________________________________________________\n",
      "dense (Dense)                (None, 128)               8320      \n",
      "_________________________________________________________________\n",
      "dropout (Dropout)            (None, 128)               0         \n",
      "_________________________________________________________________\n",
      "dense_1 (Dense)              (None, 1)                 129       \n",
      "=================================================================\n",
      "Total params: 25,345\n",
      "Trainable params: 25,345\n",
      "Non-trainable params: 0\n",
      "_________________________________________________________________\n"
     ]
    }
   ],
   "source": [
    "from tensorflow.keras.models import Sequential\n",
    "from tensorflow.keras.layers import LSTM, Dense, Dropout\n",
    "from tensorflow.keras import optimizers\n",
    "\n",
    "batch_size = 64\n",
    "epochs = 20\n",
    "\n",
    "model = Sequential()\n",
    "model.add(LSTM(64, input_shape=(187, 1)))\n",
    "model.add(Dense(128, activation='relu'))\n",
    "model.add(Dropout(0.3))\n",
    "model.add(Dense(1, activation='sigmoid'))\n",
    "adam = optimizers.Adam(lr=0.001, beta_1=0.9, beta_2=0.999, epsilon=1e-08, decay=0.0)\n",
    "model.compile(loss='binary_crossentropy', optimizer=adam, metrics=['accuracy'])\n",
    "model.summary()"
   ]
  },
  {
   "cell_type": "code",
   "execution_count": 10,
   "metadata": {
    "colab": {
     "base_uri": "https://localhost:8080/"
    },
    "id": "47Utq451Wng1",
    "outputId": "aadc8082-a8f1-4098-bf95-b76164b73453"
   },
   "outputs": [
    {
     "name": "stdout",
     "output_type": "stream",
     "text": [
      "Epoch 1/20\n",
      "182/182 [==============================] - 21s 117ms/step - loss: 0.5996 - accuracy: 0.7216 - val_loss: 0.5985 - val_accuracy: 0.7135\n",
      "Epoch 2/20\n",
      "182/182 [==============================] - 20s 109ms/step - loss: 0.5350 - accuracy: 0.7241 - val_loss: 0.5297 - val_accuracy: 0.7135\n",
      "Epoch 3/20\n",
      "182/182 [==============================] - 20s 109ms/step - loss: 0.5067 - accuracy: 0.7307 - val_loss: 0.5434 - val_accuracy: 0.7207\n",
      "Epoch 4/20\n",
      "182/182 [==============================] - 21s 113ms/step - loss: 0.5041 - accuracy: 0.7284 - val_loss: 0.5053 - val_accuracy: 0.7080\n",
      "Epoch 5/20\n",
      "182/182 [==============================] - 21s 113ms/step - loss: 0.5063 - accuracy: 0.7311 - val_loss: 0.5155 - val_accuracy: 0.7245\n",
      "Epoch 6/20\n",
      "182/182 [==============================] - 22s 118ms/step - loss: 0.4940 - accuracy: 0.7401 - val_loss: 0.4939 - val_accuracy: 0.7262\n",
      "Epoch 7/20\n",
      "182/182 [==============================] - 21s 115ms/step - loss: 0.4824 - accuracy: 0.7427 - val_loss: 0.5131 - val_accuracy: 0.7266\n",
      "Epoch 8/20\n",
      "182/182 [==============================] - 20s 111ms/step - loss: 0.4890 - accuracy: 0.7414 - val_loss: 0.4926 - val_accuracy: 0.7307\n",
      "Epoch 9/20\n",
      "182/182 [==============================] - 21s 114ms/step - loss: 0.4854 - accuracy: 0.7461 - val_loss: 0.4794 - val_accuracy: 0.7454\n",
      "Epoch 10/20\n",
      "182/182 [==============================] - 20s 111ms/step - loss: 0.4867 - accuracy: 0.7472 - val_loss: 0.4867 - val_accuracy: 0.7406\n",
      "Epoch 11/20\n",
      "182/182 [==============================] - 20s 107ms/step - loss: 0.4848 - accuracy: 0.7437 - val_loss: 0.4841 - val_accuracy: 0.7334\n",
      "Epoch 12/20\n",
      "182/182 [==============================] - 20s 110ms/step - loss: 0.4863 - accuracy: 0.7434 - val_loss: 0.4978 - val_accuracy: 0.7162\n",
      "Epoch 13/20\n",
      "182/182 [==============================] - 20s 110ms/step - loss: 0.4790 - accuracy: 0.7518 - val_loss: 0.4747 - val_accuracy: 0.7513\n",
      "Epoch 14/20\n",
      "182/182 [==============================] - 20s 109ms/step - loss: 0.4832 - accuracy: 0.7474 - val_loss: 0.4843 - val_accuracy: 0.7551\n",
      "Epoch 15/20\n",
      "182/182 [==============================] - 20s 111ms/step - loss: 0.4791 - accuracy: 0.7530 - val_loss: 0.4785 - val_accuracy: 0.7506\n",
      "Epoch 16/20\n",
      "182/182 [==============================] - 20s 108ms/step - loss: 0.4750 - accuracy: 0.7614 - val_loss: 0.4793 - val_accuracy: 0.7424\n",
      "Epoch 17/20\n",
      "182/182 [==============================] - 20s 108ms/step - loss: 0.4624 - accuracy: 0.7655 - val_loss: 0.4561 - val_accuracy: 0.7640\n",
      "Epoch 18/20\n",
      "182/182 [==============================] - 20s 108ms/step - loss: 0.5450 - accuracy: 0.7383 - val_loss: 0.6016 - val_accuracy: 0.7135\n",
      "Epoch 19/20\n",
      "182/182 [==============================] - 21s 113ms/step - loss: 0.5932 - accuracy: 0.7241 - val_loss: 0.5992 - val_accuracy: 0.7135\n",
      "Epoch 20/20\n",
      "182/182 [==============================] - 20s 109ms/step - loss: 0.5931 - accuracy: 0.7241 - val_loss: 0.5996 - val_accuracy: 0.7135\n"
     ]
    },
    {
     "data": {
      "text/plain": [
       "<tensorflow.python.keras.callbacks.History at 0x161ffec20d0>"
      ]
     },
     "execution_count": 10,
     "metadata": {},
     "output_type": "execute_result"
    }
   ],
   "source": [
    "model.fit(x_train, y_train,\n",
    "              batch_size=batch_size,\n",
    "              epochs=epochs,\n",
    "              validation_data=(x_test, y_test))"
   ]
  },
  {
   "cell_type": "code",
   "execution_count": null,
   "metadata": {},
   "outputs": [],
   "source": []
  }
 ],
 "metadata": {
  "colab": {
   "collapsed_sections": [],
   "name": "AI_PTB_CNN.ipynb",
   "provenance": []
  },
  "kernelspec": {
   "display_name": "Python 3",
   "language": "python",
   "name": "python3"
  },
  "language_info": {
   "codemirror_mode": {
    "name": "ipython",
    "version": 3
   },
   "file_extension": ".py",
   "mimetype": "text/x-python",
   "name": "python",
   "nbconvert_exporter": "python",
   "pygments_lexer": "ipython3",
   "version": "3.8.8"
  }
 },
 "nbformat": 4,
 "nbformat_minor": 1
}
