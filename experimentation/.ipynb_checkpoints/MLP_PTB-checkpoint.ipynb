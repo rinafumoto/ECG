{
 "cells": [
  {
   "cell_type": "code",
   "execution_count": 1,
   "metadata": {
    "id": "RcF_gAiwwehF"
   },
   "outputs": [],
   "source": [
    "import pandas as pd\n",
    "\n",
    "normal = pd.read_csv('../data/ptbdb_normal.csv', header = None)\n",
    "abnormal = pd.read_csv('../data/ptbdb_abnormal.csv', header = None)"
   ]
  },
  {
   "cell_type": "code",
   "execution_count": 2,
   "metadata": {
    "colab": {
     "base_uri": "https://localhost:8080/"
    },
    "id": "n04AVtV4tjJy",
    "outputId": "4f929068-64c5-4056-99ac-44a172cbe616"
   },
   "outputs": [
    {
     "name": "stdout",
     "output_type": "stream",
     "text": [
      "(4046, 187)\n",
      "(10506, 187)\n"
     ]
    }
   ],
   "source": [
    "x_normal = normal.iloc[:,:-1]\n",
    "x_abnormal = abnormal.iloc[:,:-1]\n",
    "print(x_normal.shape)\n",
    "print(x_abnormal.shape)"
   ]
  },
  {
   "cell_type": "code",
   "execution_count": 3,
   "metadata": {
    "colab": {
     "base_uri": "https://localhost:8080/"
    },
    "id": "CbLLtb3oZuIr",
    "outputId": "0d336632-e4c2-4d6f-8729-38c79bc08c6b"
   },
   "outputs": [
    {
     "name": "stdout",
     "output_type": "stream",
     "text": [
      "(4046, 1)\n",
      "(10506, 1)\n"
     ]
    }
   ],
   "source": [
    "import numpy as np\n",
    "\n",
    "y_normal = np.zeros((normal.shape[0]))\n",
    "y_normal = pd.DataFrame(y_normal)\n",
    "y_abnormal = np.ones((abnormal.shape[0]))\n",
    "y_abnormal = pd.DataFrame(y_abnormal)\n",
    "print(y_normal.shape)\n",
    "print(y_abnormal.shape)"
   ]
  },
  {
   "cell_type": "code",
   "execution_count": 4,
   "metadata": {
    "colab": {
     "base_uri": "https://localhost:8080/"
    },
    "id": "qwmZFKA4hfgu",
    "outputId": "4c12a1d2-8f44-4265-ef5b-5b36e27974e0"
   },
   "outputs": [
    {
     "name": "stdout",
     "output_type": "stream",
     "text": [
      "(14552, 187)\n",
      "(14552, 1)\n"
     ]
    }
   ],
   "source": [
    "x = pd.concat([x_normal, x_abnormal], sort=True)\n",
    "y = pd.concat([y_normal, y_abnormal] ,sort=True)\n",
    "print(x.shape)\n",
    "print(y.shape)"
   ]
  },
  {
   "cell_type": "code",
   "execution_count": 5,
   "metadata": {
    "id": "VTMQAJb9hqty"
   },
   "outputs": [],
   "source": [
    "from sklearn.model_selection import train_test_split\n",
    "x_train, x_test, y_train, y_test = train_test_split(x, y, test_size=0.2, random_state=42)"
   ]
  },
  {
   "cell_type": "code",
   "execution_count": 6,
   "metadata": {
    "id": "gAOeSV6WursK"
   },
   "outputs": [],
   "source": [
    "x_train = x_train.to_numpy()\n",
    "x_test = x_test.to_numpy()\n",
    "y_train = y_train.to_numpy()\n",
    "y_test = y_test.to_numpy()"
   ]
  },
  {
   "cell_type": "code",
   "execution_count": 7,
   "metadata": {
    "colab": {
     "base_uri": "https://localhost:8080/"
    },
    "id": "0KKQIIIQ8piP",
    "outputId": "6176bd29-e887-4895-fded-b02a575ef096"
   },
   "outputs": [
    {
     "name": "stdout",
     "output_type": "stream",
     "text": [
      "(11641, 187, 1)\n",
      "(11641, 1)\n"
     ]
    }
   ],
   "source": [
    "import numpy as np\n",
    "\n",
    "x_train = np.reshape(x_train, (len(x_train),187,1))\n",
    "print(x_train.shape)\n",
    "print(y_train.shape)"
   ]
  },
  {
   "cell_type": "code",
   "execution_count": 8,
   "metadata": {
    "colab": {
     "base_uri": "https://localhost:8080/"
    },
    "id": "51TT8sowwkWu",
    "outputId": "aa272c26-706c-49ce-bcbd-32341580bac5"
   },
   "outputs": [
    {
     "name": "stdout",
     "output_type": "stream",
     "text": [
      "(2911, 187, 1)\n",
      "(2911, 1)\n"
     ]
    }
   ],
   "source": [
    "x_test = np.reshape(x_test, (len(x_test),187,1))\n",
    "print(x_test.shape)\n",
    "print(y_test.shape)"
   ]
  },
  {
   "cell_type": "code",
   "execution_count": 9,
   "metadata": {
    "colab": {
     "base_uri": "https://localhost:8080/"
    },
    "id": "r365L1kxv3FW",
    "outputId": "7a137976-ada1-47cf-c1c3-492d2463f99d"
   },
   "outputs": [
    {
     "name": "stdout",
     "output_type": "stream",
     "text": [
      "Model: \"sequential\"\n",
      "_________________________________________________________________\n",
      "Layer (type)                 Output Shape              Param #   \n",
      "=================================================================\n",
      "dense (Dense)                (None, 187, 5)            10        \n",
      "_________________________________________________________________\n",
      "dense_1 (Dense)              (None, 187, 64)           384       \n",
      "_________________________________________________________________\n",
      "dense_2 (Dense)              (None, 187, 128)          8320      \n",
      "_________________________________________________________________\n",
      "dense_3 (Dense)              (None, 187, 128)          16512     \n",
      "_________________________________________________________________\n",
      "dense_4 (Dense)              (None, 187, 128)          16512     \n",
      "_________________________________________________________________\n",
      "dropout (Dropout)            (None, 187, 128)          0         \n",
      "_________________________________________________________________\n",
      "dense_5 (Dense)              (None, 187, 64)           8256      \n",
      "_________________________________________________________________\n",
      "dense_6 (Dense)              (None, 187, 1)            65        \n",
      "=================================================================\n",
      "Total params: 50,059\n",
      "Trainable params: 50,059\n",
      "Non-trainable params: 0\n",
      "_________________________________________________________________\n"
     ]
    }
   ],
   "source": [
    "from tensorflow.keras.models import Sequential\n",
    "from tensorflow.keras.layers import Dense, Dropout\n",
    "from tensorflow.keras import optimizers\n",
    "\n",
    "batch_size = 100\n",
    "epochs = 100\n",
    "\n",
    "model = Sequential()\n",
    "model.add(Dense(5, input_shape=x_train.shape[1:]))\n",
    "model.add(Dense(64, activation='relu'))\n",
    "model.add(Dense(128, activation='relu'))\n",
    "model.add(Dense(128, activation='relu'))\n",
    "model.add(Dense(128, activation='relu'))\n",
    "model.add(Dropout(0.2))\n",
    "model.add(Dense(64, activation='relu'))\n",
    "model.add(Dense(1, activation='sigmoid'))\n",
    "adam = optimizers.Adam(lr=0.001, beta_1=0.9, beta_2=0.999, epsilon=1e-08, decay=0.0)\n",
    "model.compile(loss='binary_crossentropy', optimizer=adam, metrics=['accuracy'])\n",
    "model.summary()"
   ]
  },
  {
   "cell_type": "code",
   "execution_count": 10,
   "metadata": {
    "colab": {
     "base_uri": "https://localhost:8080/"
    },
    "id": "47Utq451Wng1",
    "outputId": "aadc8082-a8f1-4098-bf95-b76164b73453",
    "scrolled": false
   },
   "outputs": [
    {
     "name": "stdout",
     "output_type": "stream",
     "text": [
      "Epoch 1/100\n",
      "117/117 [==============================] - 12s 101ms/step - loss: 0.5936 - accuracy: 0.7208 - val_loss: 0.5903 - val_accuracy: 0.7135\n",
      "Epoch 2/100\n",
      "117/117 [==============================] - 12s 102ms/step - loss: 0.5775 - accuracy: 0.7241 - val_loss: 0.5860 - val_accuracy: 0.7135\n",
      "Epoch 3/100\n",
      "117/117 [==============================] - 11s 97ms/step - loss: 0.5766 - accuracy: 0.7241 - val_loss: 0.5858 - val_accuracy: 0.7135\n",
      "Epoch 4/100\n",
      "117/117 [==============================] - 11s 90ms/step - loss: 0.5762 - accuracy: 0.7241 - val_loss: 0.5900 - val_accuracy: 0.7135\n",
      "Epoch 5/100\n",
      "117/117 [==============================] - 11s 97ms/step - loss: 0.5773 - accuracy: 0.7241 - val_loss: 0.5887 - val_accuracy: 0.7135\n",
      "Epoch 6/100\n",
      "117/117 [==============================] - 12s 103ms/step - loss: 0.5768 - accuracy: 0.7241 - val_loss: 0.5858 - val_accuracy: 0.7135\n",
      "Epoch 7/100\n",
      "117/117 [==============================] - 11s 91ms/step - loss: 0.5767 - accuracy: 0.7241 - val_loss: 0.5857 - val_accuracy: 0.7135\n",
      "Epoch 8/100\n",
      "117/117 [==============================] - 11s 95ms/step - loss: 0.5763 - accuracy: 0.7241 - val_loss: 0.5859 - val_accuracy: 0.7135\n",
      "Epoch 9/100\n",
      "117/117 [==============================] - 12s 101ms/step - loss: 0.5759 - accuracy: 0.7241 - val_loss: 0.5881 - val_accuracy: 0.7135\n",
      "Epoch 10/100\n",
      "117/117 [==============================] - 10s 85ms/step - loss: 0.5771 - accuracy: 0.7241 - val_loss: 0.5853 - val_accuracy: 0.7135\n",
      "Epoch 11/100\n",
      "117/117 [==============================] - 11s 93ms/step - loss: 0.5757 - accuracy: 0.7241 - val_loss: 0.5852 - val_accuracy: 0.7135\n",
      "Epoch 12/100\n",
      "117/117 [==============================] - 10s 84ms/step - loss: 0.5743 - accuracy: 0.7241 - val_loss: 0.5851 - val_accuracy: 0.7135\n",
      "Epoch 13/100\n",
      "117/117 [==============================] - 10s 83ms/step - loss: 0.5740 - accuracy: 0.7241 - val_loss: 0.5835 - val_accuracy: 0.7135\n",
      "Epoch 14/100\n",
      "117/117 [==============================] - 10s 83ms/step - loss: 0.5733 - accuracy: 0.7241 - val_loss: 0.5831 - val_accuracy: 0.7135\n",
      "Epoch 15/100\n",
      "117/117 [==============================] - 10s 83ms/step - loss: 0.5734 - accuracy: 0.7241 - val_loss: 0.5830 - val_accuracy: 0.7135\n",
      "Epoch 16/100\n",
      "117/117 [==============================] - 10s 83ms/step - loss: 0.5730 - accuracy: 0.7241 - val_loss: 0.5847 - val_accuracy: 0.7135\n",
      "Epoch 17/100\n",
      "117/117 [==============================] - 10s 83ms/step - loss: 0.5729 - accuracy: 0.7241 - val_loss: 0.5845 - val_accuracy: 0.7135\n",
      "Epoch 18/100\n",
      "117/117 [==============================] - 11s 91ms/step - loss: 0.5729 - accuracy: 0.7241 - val_loss: 0.5846 - val_accuracy: 0.7135\n",
      "Epoch 19/100\n",
      "117/117 [==============================] - 10s 88ms/step - loss: 0.5730 - accuracy: 0.7241 - val_loss: 0.5827 - val_accuracy: 0.7135\n",
      "Epoch 20/100\n",
      "117/117 [==============================] - 11s 91ms/step - loss: 0.5726 - accuracy: 0.7241 - val_loss: 0.5832 - val_accuracy: 0.7135\n",
      "Epoch 21/100\n",
      "117/117 [==============================] - 11s 91ms/step - loss: 0.5738 - accuracy: 0.7241 - val_loss: 0.5831 - val_accuracy: 0.7135\n",
      "Epoch 22/100\n",
      "117/117 [==============================] - 11s 90ms/step - loss: 0.5738 - accuracy: 0.7241 - val_loss: 0.5831 - val_accuracy: 0.7135\n",
      "Epoch 23/100\n",
      "117/117 [==============================] - 11s 90ms/step - loss: 0.5730 - accuracy: 0.7241 - val_loss: 0.5837 - val_accuracy: 0.7135\n",
      "Epoch 24/100\n",
      "117/117 [==============================] - 11s 93ms/step - loss: 0.5725 - accuracy: 0.7241 - val_loss: 0.5827 - val_accuracy: 0.7135\n",
      "Epoch 25/100\n",
      "117/117 [==============================] - 10s 89ms/step - loss: 0.5727 - accuracy: 0.7241 - val_loss: 0.5845 - val_accuracy: 0.7135\n",
      "Epoch 26/100\n",
      "117/117 [==============================] - 10s 89ms/step - loss: 0.5725 - accuracy: 0.7241 - val_loss: 0.5825 - val_accuracy: 0.7135\n",
      "Epoch 27/100\n",
      "117/117 [==============================] - 10s 90ms/step - loss: 0.5727 - accuracy: 0.7241 - val_loss: 0.5833 - val_accuracy: 0.7135\n",
      "Epoch 28/100\n",
      "117/117 [==============================] - 10s 89ms/step - loss: 0.5726 - accuracy: 0.7241 - val_loss: 0.5859 - val_accuracy: 0.7135\n",
      "Epoch 29/100\n",
      "117/117 [==============================] - 11s 90ms/step - loss: 0.5728 - accuracy: 0.7241 - val_loss: 0.5827 - val_accuracy: 0.7135\n",
      "Epoch 30/100\n",
      "117/117 [==============================] - 10s 89ms/step - loss: 0.5726 - accuracy: 0.7241 - val_loss: 0.5832 - val_accuracy: 0.7135\n",
      "Epoch 31/100\n",
      "117/117 [==============================] - 11s 90ms/step - loss: 0.5726 - accuracy: 0.7241 - val_loss: 0.5830 - val_accuracy: 0.7135\n",
      "Epoch 32/100\n",
      "117/117 [==============================] - 11s 93ms/step - loss: 0.5731 - accuracy: 0.7241 - val_loss: 0.5850 - val_accuracy: 0.7135\n",
      "Epoch 33/100\n",
      "117/117 [==============================] - 10s 89ms/step - loss: 0.5727 - accuracy: 0.7241 - val_loss: 0.5837 - val_accuracy: 0.7135\n",
      "Epoch 34/100\n",
      "117/117 [==============================] - 11s 91ms/step - loss: 0.5727 - accuracy: 0.7241 - val_loss: 0.5831 - val_accuracy: 0.7135\n",
      "Epoch 35/100\n",
      "117/117 [==============================] - 10s 89ms/step - loss: 0.5724 - accuracy: 0.7241 - val_loss: 0.5837 - val_accuracy: 0.7135\n",
      "Epoch 36/100\n",
      "117/117 [==============================] - 10s 90ms/step - loss: 0.5729 - accuracy: 0.7241 - val_loss: 0.5832 - val_accuracy: 0.7135\n",
      "Epoch 37/100\n",
      "117/117 [==============================] - 11s 90ms/step - loss: 0.5730 - accuracy: 0.7241 - val_loss: 0.5832 - val_accuracy: 0.7135\n",
      "Epoch 38/100\n",
      "117/117 [==============================] - 11s 91ms/step - loss: 0.5723 - accuracy: 0.7241 - val_loss: 0.5824 - val_accuracy: 0.7135\n",
      "Epoch 39/100\n",
      "117/117 [==============================] - 11s 91ms/step - loss: 0.5725 - accuracy: 0.7241 - val_loss: 0.5850 - val_accuracy: 0.7135\n",
      "Epoch 40/100\n",
      "117/117 [==============================] - 11s 91ms/step - loss: 0.5727 - accuracy: 0.7241 - val_loss: 0.5828 - val_accuracy: 0.7135\n",
      "Epoch 41/100\n",
      "117/117 [==============================] - 10s 90ms/step - loss: 0.5727 - accuracy: 0.7241 - val_loss: 0.5824 - val_accuracy: 0.7135\n",
      "Epoch 42/100\n",
      "117/117 [==============================] - 11s 94ms/step - loss: 0.5727 - accuracy: 0.7241 - val_loss: 0.5834 - val_accuracy: 0.7135\n",
      "Epoch 43/100\n",
      "117/117 [==============================] - 11s 92ms/step - loss: 0.5728 - accuracy: 0.7241 - val_loss: 0.5831 - val_accuracy: 0.7135\n",
      "Epoch 44/100\n",
      "117/117 [==============================] - 10s 89ms/step - loss: 0.5727 - accuracy: 0.7241 - val_loss: 0.5844 - val_accuracy: 0.7135\n",
      "Epoch 45/100\n",
      "117/117 [==============================] - 10s 90ms/step - loss: 0.5723 - accuracy: 0.7241 - val_loss: 0.5839 - val_accuracy: 0.7135\n",
      "Epoch 46/100\n",
      "117/117 [==============================] - 11s 94ms/step - loss: 0.5726 - accuracy: 0.7241 - val_loss: 0.5823 - val_accuracy: 0.7135\n",
      "Epoch 47/100\n",
      "117/117 [==============================] - 11s 90ms/step - loss: 0.5726 - accuracy: 0.7241 - val_loss: 0.5825 - val_accuracy: 0.7135\n",
      "Epoch 48/100\n",
      "117/117 [==============================] - 11s 91ms/step - loss: 0.5722 - accuracy: 0.7241 - val_loss: 0.5834 - val_accuracy: 0.7135\n",
      "Epoch 49/100\n",
      "117/117 [==============================] - 11s 91ms/step - loss: 0.5723 - accuracy: 0.7241 - val_loss: 0.5833 - val_accuracy: 0.7135\n",
      "Epoch 50/100\n",
      "117/117 [==============================] - 11s 90ms/step - loss: 0.5723 - accuracy: 0.7241 - val_loss: 0.5835 - val_accuracy: 0.7135\n",
      "Epoch 51/100\n",
      "117/117 [==============================] - 11s 91ms/step - loss: 0.5729 - accuracy: 0.7241 - val_loss: 0.5823 - val_accuracy: 0.7135\n",
      "Epoch 52/100\n",
      "117/117 [==============================] - 11s 90ms/step - loss: 0.5725 - accuracy: 0.7241 - val_loss: 0.5822 - val_accuracy: 0.7135\n",
      "Epoch 53/100\n",
      "117/117 [==============================] - 11s 91ms/step - loss: 0.5725 - accuracy: 0.7241 - val_loss: 0.5842 - val_accuracy: 0.7135\n",
      "Epoch 54/100\n",
      "117/117 [==============================] - 11s 96ms/step - loss: 0.5725 - accuracy: 0.7241 - val_loss: 0.5833 - val_accuracy: 0.7135\n",
      "Epoch 55/100\n",
      "117/117 [==============================] - 11s 92ms/step - loss: 0.5726 - accuracy: 0.7241 - val_loss: 0.5836 - val_accuracy: 0.7135\n",
      "Epoch 56/100\n",
      "117/117 [==============================] - 11s 92ms/step - loss: 0.5725 - accuracy: 0.7241 - val_loss: 0.5822 - val_accuracy: 0.7135\n",
      "Epoch 57/100\n"
     ]
    },
    {
     "name": "stdout",
     "output_type": "stream",
     "text": [
      "117/117 [==============================] - 10s 88ms/step - loss: 0.5725 - accuracy: 0.7241 - val_loss: 0.5821 - val_accuracy: 0.7135\n",
      "Epoch 58/100\n",
      "117/117 [==============================] - 10s 89ms/step - loss: 0.5721 - accuracy: 0.7241 - val_loss: 0.5833 - val_accuracy: 0.7135\n",
      "Epoch 59/100\n",
      "117/117 [==============================] - 10s 89ms/step - loss: 0.5719 - accuracy: 0.7241 - val_loss: 0.5833 - val_accuracy: 0.7135\n",
      "Epoch 60/100\n",
      "117/117 [==============================] - 10s 89ms/step - loss: 0.5729 - accuracy: 0.7241 - val_loss: 0.5824 - val_accuracy: 0.7135\n",
      "Epoch 61/100\n",
      "117/117 [==============================] - 10s 89ms/step - loss: 0.5724 - accuracy: 0.7241 - val_loss: 0.5837 - val_accuracy: 0.7135\n",
      "Epoch 62/100\n",
      "117/117 [==============================] - 10s 89ms/step - loss: 0.5725 - accuracy: 0.7241 - val_loss: 0.5825 - val_accuracy: 0.7135\n",
      "Epoch 63/100\n",
      "117/117 [==============================] - 11s 91ms/step - loss: 0.5721 - accuracy: 0.7241 - val_loss: 0.5825 - val_accuracy: 0.7135\n",
      "Epoch 64/100\n",
      "117/117 [==============================] - 11s 97ms/step - loss: 0.5726 - accuracy: 0.7241 - val_loss: 0.5829 - val_accuracy: 0.7135\n",
      "Epoch 65/100\n",
      "117/117 [==============================] - 11s 94ms/step - loss: 0.5724 - accuracy: 0.7241 - val_loss: 0.5820 - val_accuracy: 0.7135\n",
      "Epoch 66/100\n",
      "117/117 [==============================] - 10s 89ms/step - loss: 0.5722 - accuracy: 0.7241 - val_loss: 0.5826 - val_accuracy: 0.7135\n",
      "Epoch 67/100\n",
      "117/117 [==============================] - 11s 93ms/step - loss: 0.5725 - accuracy: 0.7241 - val_loss: 0.5827 - val_accuracy: 0.7135\n",
      "Epoch 68/100\n",
      "117/117 [==============================] - 11s 91ms/step - loss: 0.5723 - accuracy: 0.7241 - val_loss: 0.5826 - val_accuracy: 0.7135\n",
      "Epoch 69/100\n",
      "117/117 [==============================] - 10s 89ms/step - loss: 0.5722 - accuracy: 0.7241 - val_loss: 0.5823 - val_accuracy: 0.7135\n",
      "Epoch 70/100\n",
      "117/117 [==============================] - 11s 91ms/step - loss: 0.5727 - accuracy: 0.7241 - val_loss: 0.5826 - val_accuracy: 0.7135\n",
      "Epoch 71/100\n",
      "117/117 [==============================] - 11s 90ms/step - loss: 0.5721 - accuracy: 0.7241 - val_loss: 0.5826 - val_accuracy: 0.7135\n",
      "Epoch 72/100\n",
      "117/117 [==============================] - 11s 91ms/step - loss: 0.5723 - accuracy: 0.7241 - val_loss: 0.5831 - val_accuracy: 0.7135\n",
      "Epoch 73/100\n",
      "117/117 [==============================] - 10s 89ms/step - loss: 0.5723 - accuracy: 0.7241 - val_loss: 0.5830 - val_accuracy: 0.7135\n",
      "Epoch 74/100\n",
      "117/117 [==============================] - 10s 89ms/step - loss: 0.5722 - accuracy: 0.7241 - val_loss: 0.5822 - val_accuracy: 0.7135\n",
      "Epoch 75/100\n",
      "117/117 [==============================] - 11s 93ms/step - loss: 0.5724 - accuracy: 0.7241 - val_loss: 0.5824 - val_accuracy: 0.7135\n",
      "Epoch 76/100\n",
      "117/117 [==============================] - 11s 91ms/step - loss: 0.5723 - accuracy: 0.7241 - val_loss: 0.5821 - val_accuracy: 0.7135\n",
      "Epoch 77/100\n",
      "117/117 [==============================] - 10s 89ms/step - loss: 0.5721 - accuracy: 0.7241 - val_loss: 0.5821 - val_accuracy: 0.7135\n",
      "Epoch 78/100\n",
      "117/117 [==============================] - 10s 89ms/step - loss: 0.5724 - accuracy: 0.7241 - val_loss: 0.5822 - val_accuracy: 0.7135\n",
      "Epoch 79/100\n",
      "117/117 [==============================] - 10s 89ms/step - loss: 0.5722 - accuracy: 0.7241 - val_loss: 0.5824 - val_accuracy: 0.7135\n",
      "Epoch 80/100\n",
      "117/117 [==============================] - 10s 89ms/step - loss: 0.5722 - accuracy: 0.7241 - val_loss: 0.5876 - val_accuracy: 0.7135\n",
      "Epoch 81/100\n",
      "117/117 [==============================] - 10s 89ms/step - loss: 0.5725 - accuracy: 0.7241 - val_loss: 0.5831 - val_accuracy: 0.7135\n",
      "Epoch 82/100\n",
      "117/117 [==============================] - 10s 89ms/step - loss: 0.5726 - accuracy: 0.7241 - val_loss: 0.5826 - val_accuracy: 0.7135\n",
      "Epoch 83/100\n",
      "117/117 [==============================] - 11s 90ms/step - loss: 0.5721 - accuracy: 0.7241 - val_loss: 0.5821 - val_accuracy: 0.7135\n",
      "Epoch 84/100\n",
      "117/117 [==============================] - 10s 89ms/step - loss: 0.5726 - accuracy: 0.7241 - val_loss: 0.5826 - val_accuracy: 0.7135\n",
      "Epoch 85/100\n",
      "117/117 [==============================] - 10s 88ms/step - loss: 0.5721 - accuracy: 0.7241 - val_loss: 0.5831 - val_accuracy: 0.7135\n",
      "Epoch 86/100\n",
      "117/117 [==============================] - 10s 88ms/step - loss: 0.5721 - accuracy: 0.7241 - val_loss: 0.5820 - val_accuracy: 0.7135\n",
      "Epoch 87/100\n",
      "117/117 [==============================] - 10s 89ms/step - loss: 0.5724 - accuracy: 0.7241 - val_loss: 0.5823 - val_accuracy: 0.7135\n",
      "Epoch 88/100\n",
      "117/117 [==============================] - 11s 92ms/step - loss: 0.5721 - accuracy: 0.7241 - val_loss: 0.5828 - val_accuracy: 0.7135\n",
      "Epoch 89/100\n",
      "117/117 [==============================] - 11s 95ms/step - loss: 0.5724 - accuracy: 0.7241 - val_loss: 0.5823 - val_accuracy: 0.7135\n",
      "Epoch 90/100\n",
      "117/117 [==============================] - 12s 103ms/step - loss: 0.5722 - accuracy: 0.7241 - val_loss: 0.5835 - val_accuracy: 0.7135\n",
      "Epoch 91/100\n",
      "117/117 [==============================] - 10s 89ms/step - loss: 0.5721 - accuracy: 0.7241 - val_loss: 0.5822 - val_accuracy: 0.7135\n",
      "Epoch 92/100\n",
      "117/117 [==============================] - 10s 89ms/step - loss: 0.5723 - accuracy: 0.7241 - val_loss: 0.5821 - val_accuracy: 0.7135\n",
      "Epoch 93/100\n",
      "117/117 [==============================] - 10s 89ms/step - loss: 0.5720 - accuracy: 0.7241 - val_loss: 0.5823 - val_accuracy: 0.7135\n",
      "Epoch 94/100\n",
      "117/117 [==============================] - 10s 90ms/step - loss: 0.5721 - accuracy: 0.7241 - val_loss: 0.5834 - val_accuracy: 0.7135\n",
      "Epoch 95/100\n",
      "117/117 [==============================] - 11s 91ms/step - loss: 0.5722 - accuracy: 0.7241 - val_loss: 0.5824 - val_accuracy: 0.7135\n",
      "Epoch 96/100\n",
      "117/117 [==============================] - 11s 91ms/step - loss: 0.5724 - accuracy: 0.7241 - val_loss: 0.5822 - val_accuracy: 0.7135\n",
      "Epoch 97/100\n",
      "117/117 [==============================] - 12s 102ms/step - loss: 0.5722 - accuracy: 0.7241 - val_loss: 0.5822 - val_accuracy: 0.7135\n",
      "Epoch 98/100\n",
      "117/117 [==============================] - 12s 106ms/step - loss: 0.5723 - accuracy: 0.7241 - val_loss: 0.5830 - val_accuracy: 0.7135\n",
      "Epoch 99/100\n",
      "117/117 [==============================] - 11s 91ms/step - loss: 0.5722 - accuracy: 0.7241 - val_loss: 0.5821 - val_accuracy: 0.7135\n",
      "Epoch 100/100\n",
      "117/117 [==============================] - 10s 88ms/step - loss: 0.5722 - accuracy: 0.7241 - val_loss: 0.5823 - val_accuracy: 0.7135\n"
     ]
    },
    {
     "data": {
      "text/plain": [
       "<tensorflow.python.keras.callbacks.History at 0x1bed2b85370>"
      ]
     },
     "execution_count": 10,
     "metadata": {},
     "output_type": "execute_result"
    }
   ],
   "source": [
    "model.fit(x_train, y_train,\n",
    "              batch_size=batch_size,\n",
    "              epochs=epochs,\n",
    "              validation_data=(x_test, y_test))"
   ]
  },
  {
   "cell_type": "code",
   "execution_count": null,
   "metadata": {},
   "outputs": [],
   "source": []
  }
 ],
 "metadata": {
  "colab": {
   "collapsed_sections": [],
   "name": "AI_PTB_CNN.ipynb",
   "provenance": []
  },
  "kernelspec": {
   "display_name": "Python 3",
   "language": "python",
   "name": "python3"
  },
  "language_info": {
   "codemirror_mode": {
    "name": "ipython",
    "version": 3
   },
   "file_extension": ".py",
   "mimetype": "text/x-python",
   "name": "python",
   "nbconvert_exporter": "python",
   "pygments_lexer": "ipython3",
   "version": "3.8.8"
  }
 },
 "nbformat": 4,
 "nbformat_minor": 1
}
