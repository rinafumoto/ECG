{
 "cells": [
  {
   "cell_type": "code",
   "execution_count": null,
   "metadata": {
    "id": "is5wPnBb4pQv"
   },
   "outputs": [],
   "source": [
    "import pandas as pd\n",
    "\n",
    "train = pd.read_csv('mitbih_train.csv', header=None)\n",
    "test = pd.read_csv('mitbih_test.csv', header=None)"
   ]
  },
  {
   "cell_type": "code",
   "execution_count": null,
   "metadata": {
    "colab": {
     "base_uri": "https://localhost:8080/"
    },
    "executionInfo": {
     "elapsed": 30531,
     "status": "ok",
     "timestamp": 1617875227164,
     "user": {
      "displayName": "Rina Fumoto",
      "photoUrl": "",
      "userId": "14403772957058618504"
     },
     "user_tz": -60
    },
    "id": "MQmPX1e73Gli",
    "outputId": "befa8d75-947a-44cb-b655-ed667bc0a963"
   },
   "outputs": [
    {
     "name": "stdout",
     "output_type": "stream",
     "text": [
      "(87554, 188)\n"
     ]
    }
   ],
   "source": [
    "print(train.shape)"
   ]
  },
  {
   "cell_type": "code",
   "execution_count": null,
   "metadata": {
    "colab": {
     "base_uri": "https://localhost:8080/"
    },
    "executionInfo": {
     "elapsed": 30523,
     "status": "ok",
     "timestamp": 1617875227166,
     "user": {
      "displayName": "Rina Fumoto",
      "photoUrl": "",
      "userId": "14403772957058618504"
     },
     "user_tz": -60
    },
    "id": "-CL_j7tX2y9s",
    "outputId": "888e12bd-9c67-4ccf-aade-fff90aee9412"
   },
   "outputs": [
    {
     "name": "stdout",
     "output_type": "stream",
     "text": [
      "0    72471\n",
      "4     6431\n",
      "2     5788\n",
      "1     2223\n",
      "3      641\n",
      "Name: 187, dtype: int64\n"
     ]
    }
   ],
   "source": [
    "train[187]=train[187].astype(int)\n",
    "equilibre=train[187].value_counts()\n",
    "print(equilibre)"
   ]
  },
  {
   "cell_type": "code",
   "execution_count": null,
   "metadata": {
    "id": "5Zo3wMgE2fZz"
   },
   "outputs": [],
   "source": [
    "from sklearn.utils import resample\n",
    "df_1=train[train[187]==1]\n",
    "df_2=train[train[187]==2]\n",
    "df_3=train[train[187]==3]\n",
    "df_4=train[train[187]==4]\n",
    "df_0=(train[train[187]==0]).sample(n=20000,random_state=42)\n",
    "\n",
    "df_1_upsample=resample(df_1,replace=True,n_samples=20000,random_state=123)\n",
    "df_2_upsample=resample(df_2,replace=True,n_samples=20000,random_state=124)\n",
    "df_3_upsample=resample(df_3,replace=True,n_samples=20000,random_state=125)\n",
    "df_4_upsample=resample(df_4,replace=True,n_samples=20000,random_state=126)\n",
    "\n",
    "train=pd.concat([df_0,df_1_upsample,df_2_upsample,df_3_upsample,df_4_upsample])"
   ]
  },
  {
   "cell_type": "code",
   "execution_count": null,
   "metadata": {
    "colab": {
     "base_uri": "https://localhost:8080/"
    },
    "executionInfo": {
     "elapsed": 31996,
     "status": "ok",
     "timestamp": 1617875228648,
     "user": {
      "displayName": "Rina Fumoto",
      "photoUrl": "",
      "userId": "14403772957058618504"
     },
     "user_tz": -60
    },
    "id": "ZXd80yR83Bo9",
    "outputId": "35bc5390-b627-4239-f0ad-2d55f59f785b"
   },
   "outputs": [
    {
     "name": "stdout",
     "output_type": "stream",
     "text": [
      "4    20000\n",
      "3    20000\n",
      "2    20000\n",
      "1    20000\n",
      "0    20000\n",
      "Name: 187, dtype: int64\n"
     ]
    }
   ],
   "source": [
    "equilibre=train[187].value_counts()\n",
    "print(equilibre)"
   ]
  },
  {
   "cell_type": "code",
   "execution_count": null,
   "metadata": {
    "id": "f92Jr4IrvJTL"
   },
   "outputs": [],
   "source": [
    "num_classes = 5"
   ]
  },
  {
   "cell_type": "code",
   "execution_count": null,
   "metadata": {
    "colab": {
     "base_uri": "https://localhost:8080/"
    },
    "executionInfo": {
     "elapsed": 619,
     "status": "ok",
     "timestamp": 1617797056778,
     "user": {
      "displayName": "Rina Fumoto",
      "photoUrl": "",
      "userId": "14403772957058618504"
     },
     "user_tz": -60
    },
    "id": "pp2NdO7qwgYk",
    "outputId": "211ace18-3ce0-42b2-c0d7-28649a1919e1"
   },
   "outputs": [
    {
     "name": "stdout",
     "output_type": "stream",
     "text": [
      "(87553, 188)\n",
      "(87553, 187, 1)\n",
      "(87553, 5)\n",
      "(187, 1)\n"
     ]
    }
   ],
   "source": [
    "import numpy as np\n",
    "import keras\n",
    "\n",
    "print(train.shape)\n",
    "x_train = train.iloc[:,:-1].to_numpy()\n",
    "x_train = np.reshape(x_train, (len(x_train),187,1))\n",
    "print(x_train.shape)\n",
    "y_train = train.iloc[:,-1]\n",
    "y_train = keras.utils.to_categorical(y_train, num_classes)\n",
    "print(y_train.shape)\n",
    "input_shape = x_train.shape[1:]\n",
    "print(input_shape)"
   ]
  },
  {
   "cell_type": "code",
   "execution_count": null,
   "metadata": {
    "colab": {
     "base_uri": "https://localhost:8080/"
    },
    "executionInfo": {
     "elapsed": 536,
     "status": "ok",
     "timestamp": 1617797058626,
     "user": {
      "displayName": "Rina Fumoto",
      "photoUrl": "",
      "userId": "14403772957058618504"
     },
     "user_tz": -60
    },
    "id": "51TT8sowwkWu",
    "outputId": "6606e55f-94a5-43c1-99ee-1b124648376d"
   },
   "outputs": [
    {
     "name": "stdout",
     "output_type": "stream",
     "text": [
      "(21891, 188)\n",
      "(21891, 187, 1)\n",
      "(21891, 5)\n"
     ]
    }
   ],
   "source": [
    "print(test.shape)\n",
    "x_test = test.iloc[:,:-1].to_numpy()\n",
    "x_test = np.reshape(x_test, (len(x_test),187,1))\n",
    "print(x_test.shape)\n",
    "y_test = test.iloc[:,-1]\n",
    "y_test = keras.utils.to_categorical(y_test, num_classes)\n",
    "print(y_test.shape)"
   ]
  },
  {
   "cell_type": "code",
   "execution_count": null,
   "metadata": {
    "colab": {
     "base_uri": "https://localhost:8080/"
    },
    "executionInfo": {
     "elapsed": 633,
     "status": "ok",
     "timestamp": 1617796491544,
     "user": {
      "displayName": "Rina Fumoto",
      "photoUrl": "",
      "userId": "14403772957058618504"
     },
     "user_tz": -60
    },
    "id": "vOIqz4PTL0Mg",
    "outputId": "d0045770-73b8-478a-cc50-d547e7f843b0"
   },
   "outputs": [
    {
     "name": "stdout",
     "output_type": "stream",
     "text": [
      "(87553, 187, 1)\n"
     ]
    }
   ],
   "source": [
    "print(x_train.shape)"
   ]
  },
  {
   "cell_type": "code",
   "execution_count": null,
   "metadata": {
    "colab": {
     "base_uri": "https://localhost:8080/"
    },
    "executionInfo": {
     "elapsed": 974,
     "status": "ok",
     "timestamp": 1617798892690,
     "user": {
      "displayName": "Rina Fumoto",
      "photoUrl": "",
      "userId": "14403772957058618504"
     },
     "user_tz": -60
    },
    "id": "r365L1kxv3FW",
    "outputId": "7bc94a42-8600-4c31-a4a9-adbccd037ace"
   },
   "outputs": [
    {
     "name": "stdout",
     "output_type": "stream",
     "text": [
      "Model: \"sequential_20\"\n",
      "_________________________________________________________________\n",
      "Layer (type)                 Output Shape              Param #   \n",
      "=================================================================\n",
      "conv1d_19 (Conv1D)           (None, 185, 5)            20        \n",
      "_________________________________________________________________\n",
      "leaky_re_lu_1 (LeakyReLU)    (None, 185, 5)            0         \n",
      "_________________________________________________________________\n",
      "max_pooling1d_15 (MaxPooling (None, 92, 5)             0         \n",
      "_________________________________________________________________\n",
      "conv1d_20 (Conv1D)           (None, 89, 10)            210       \n",
      "_________________________________________________________________\n",
      "leaky_re_lu_2 (LeakyReLU)    (None, 89, 10)            0         \n",
      "_________________________________________________________________\n",
      "max_pooling1d_16 (MaxPooling (None, 44, 10)            0         \n",
      "_________________________________________________________________\n",
      "conv1d_21 (Conv1D)           (None, 41, 20)            820       \n",
      "_________________________________________________________________\n",
      "leaky_re_lu_3 (LeakyReLU)    (None, 41, 20)            0         \n",
      "_________________________________________________________________\n",
      "max_pooling1d_17 (MaxPooling (None, 20, 20)            0         \n",
      "_________________________________________________________________\n",
      "flatten_2 (Flatten)          (None, 400)               0         \n",
      "_________________________________________________________________\n",
      "dense_9 (Dense)              (None, 30)                12030     \n",
      "_________________________________________________________________\n",
      "leaky_re_lu_4 (LeakyReLU)    (None, 30)                0         \n",
      "_________________________________________________________________\n",
      "dense_10 (Dense)             (None, 20)                620       \n",
      "_________________________________________________________________\n",
      "leaky_re_lu_5 (LeakyReLU)    (None, 20)                0         \n",
      "_________________________________________________________________\n",
      "dense_11 (Dense)             (None, 5)                 105       \n",
      "=================================================================\n",
      "Total params: 13,805\n",
      "Trainable params: 13,805\n",
      "Non-trainable params: 0\n",
      "_________________________________________________________________\n"
     ]
    }
   ],
   "source": [
    "from keras.models import Sequential\n",
    "from keras.layers import Dense, Conv1D, MaxPooling1D, Flatten, LeakyReLU\n",
    "\n",
    "model = Sequential()\n",
    "model.add(Conv1D(5, kernel_size=3, strides=1, input_shape=x_train.shape[1:]))\n",
    "model.add(LeakyReLU())\n",
    "model.add(MaxPooling1D(pool_size=2, strides=2))\n",
    "model.add(Conv1D(10, kernel_size=4, strides=1))\n",
    "model.add(LeakyReLU())\n",
    "model.add(MaxPooling1D(pool_size=2, strides=2))\n",
    "model.add(Conv1D(20, kernel_size=4, strides=1))\n",
    "model.add(LeakyReLU())\n",
    "model.add(MaxPooling1D(pool_size=2, strides=2))\n",
    "model.add(Flatten())\n",
    "model.add(Dense(30))\n",
    "model.add(LeakyReLU())\n",
    "model.add(Dense(20))\n",
    "model.add(LeakyReLU())\n",
    "model.add(Dense(5, activation=\"softmax\"))\n",
    "    \n",
    "model.summary()"
   ]
  },
  {
   "cell_type": "code",
   "execution_count": null,
   "metadata": {
    "id": "Kq-eg-vvQFvL"
   },
   "outputs": [],
   "source": [
    "opt = keras.optimizers.SGD(lr=0.003, momentum=0.7)\n",
    "\n",
    "model.compile(loss='categorical_crossentropy',\n",
    "              optimizer=opt,\n",
    "              metrics=['accuracy'])"
   ]
  },
  {
   "cell_type": "code",
   "execution_count": null,
   "metadata": {
    "colab": {
     "base_uri": "https://localhost:8080/"
    },
    "executionInfo": {
     "elapsed": 252337,
     "status": "ok",
     "timestamp": 1617801112483,
     "user": {
      "displayName": "Rina Fumoto",
      "photoUrl": "",
      "userId": "14403772957058618504"
     },
     "user_tz": -60
    },
    "id": "47Utq451Wng1",
    "outputId": "b2ae4aea-6d31-4586-a2f8-77ae1e66e8d4"
   },
   "outputs": [
    {
     "name": "stdout",
     "output_type": "stream",
     "text": [
      "Epoch 1/20\n",
      "685/685 [==============================] - 14s 19ms/step - loss: 0.1128 - accuracy: 0.9681 - val_loss: 0.1726 - val_accuracy: 0.9535\n",
      "Epoch 2/20\n",
      "685/685 [==============================] - 13s 19ms/step - loss: 0.1042 - accuracy: 0.9712 - val_loss: 0.1158 - val_accuracy: 0.9677\n",
      "Epoch 3/20\n",
      "685/685 [==============================] - 12s 18ms/step - loss: 0.1042 - accuracy: 0.9706 - val_loss: 0.1204 - val_accuracy: 0.9677\n",
      "Epoch 4/20\n",
      "685/685 [==============================] - 12s 18ms/step - loss: 0.1013 - accuracy: 0.9723 - val_loss: 0.1216 - val_accuracy: 0.9682\n",
      "Epoch 5/20\n",
      "685/685 [==============================] - 12s 18ms/step - loss: 0.0991 - accuracy: 0.9726 - val_loss: 0.1359 - val_accuracy: 0.9634\n",
      "Epoch 6/20\n",
      "685/685 [==============================] - 12s 18ms/step - loss: 0.0994 - accuracy: 0.9725 - val_loss: 0.1160 - val_accuracy: 0.9692\n",
      "Epoch 7/20\n",
      "685/685 [==============================] - 12s 18ms/step - loss: 0.0974 - accuracy: 0.9725 - val_loss: 0.1230 - val_accuracy: 0.9683\n",
      "Epoch 8/20\n",
      "685/685 [==============================] - 12s 18ms/step - loss: 0.0956 - accuracy: 0.9723 - val_loss: 0.1268 - val_accuracy: 0.9655\n",
      "Epoch 9/20\n",
      "685/685 [==============================] - 12s 18ms/step - loss: 0.0960 - accuracy: 0.9732 - val_loss: 0.1163 - val_accuracy: 0.9691\n",
      "Epoch 10/20\n",
      "685/685 [==============================] - 12s 18ms/step - loss: 0.0941 - accuracy: 0.9739 - val_loss: 5.4048 - val_accuracy: 0.2564\n",
      "Epoch 11/20\n",
      "685/685 [==============================] - 13s 18ms/step - loss: 0.2368 - accuracy: 0.9508 - val_loss: 0.1308 - val_accuracy: 0.9645\n",
      "Epoch 12/20\n",
      "685/685 [==============================] - 12s 18ms/step - loss: 0.0930 - accuracy: 0.9739 - val_loss: 0.1067 - val_accuracy: 0.9713\n",
      "Epoch 13/20\n",
      "685/685 [==============================] - 13s 18ms/step - loss: 0.0909 - accuracy: 0.9749 - val_loss: 0.1066 - val_accuracy: 0.9716\n",
      "Epoch 14/20\n",
      "685/685 [==============================] - 13s 19ms/step - loss: 0.0907 - accuracy: 0.9751 - val_loss: 0.1079 - val_accuracy: 0.9703\n",
      "Epoch 15/20\n",
      "685/685 [==============================] - 13s 19ms/step - loss: 0.0895 - accuracy: 0.9749 - val_loss: 0.1029 - val_accuracy: 0.9720\n",
      "Epoch 16/20\n",
      "685/685 [==============================] - 13s 19ms/step - loss: 0.0915 - accuracy: 0.9742 - val_loss: 0.1045 - val_accuracy: 0.9721\n",
      "Epoch 17/20\n",
      "685/685 [==============================] - 12s 18ms/step - loss: 0.0900 - accuracy: 0.9749 - val_loss: 0.1071 - val_accuracy: 0.9714\n",
      "Epoch 18/20\n",
      "685/685 [==============================] - 13s 19ms/step - loss: 0.0873 - accuracy: 0.9753 - val_loss: 0.1040 - val_accuracy: 0.9730\n",
      "Epoch 19/20\n",
      "685/685 [==============================] - 13s 19ms/step - loss: 0.0842 - accuracy: 0.9761 - val_loss: 0.1061 - val_accuracy: 0.9725\n",
      "Epoch 20/20\n",
      "685/685 [==============================] - 13s 19ms/step - loss: 0.0816 - accuracy: 0.9763 - val_loss: 0.1023 - val_accuracy: 0.9728\n"
     ]
    },
    {
     "data": {
      "text/plain": [
       "<tensorflow.python.keras.callbacks.History at 0x7f49f07cc150>"
      ]
     },
     "execution_count": 46,
     "metadata": {
      "tags": []
     },
     "output_type": "execute_result"
    }
   ],
   "source": [
    "model.fit(x_train, y_train,\n",
    "              batch_size=128,\n",
    "              epochs=20,\n",
    "              validation_data=(x_test, y_test),\n",
    "              shuffle=True)"
   ]
  }
 ],
 "metadata": {
  "colab": {
   "authorship_tag": "ABX9TyNhNszDn7Jn6COzTYO6Rjfd",
   "collapsed_sections": [],
   "name": "AI_CNN_balanced.ipynb",
   "provenance": [
    {
     "file_id": "1TUfYd_9lR9I895oMtsjwkmFXHiCK-zkG",
     "timestamp": 1617875325526
    }
   ]
  },
  "kernelspec": {
   "display_name": "Python 3",
   "language": "python",
   "name": "python3"
  },
  "language_info": {
   "codemirror_mode": {
    "name": "ipython",
    "version": 3
   },
   "file_extension": ".py",
   "mimetype": "text/x-python",
   "name": "python",
   "nbconvert_exporter": "python",
   "pygments_lexer": "ipython3",
   "version": "3.8.8"
  }
 },
 "nbformat": 4,
 "nbformat_minor": 1
}
