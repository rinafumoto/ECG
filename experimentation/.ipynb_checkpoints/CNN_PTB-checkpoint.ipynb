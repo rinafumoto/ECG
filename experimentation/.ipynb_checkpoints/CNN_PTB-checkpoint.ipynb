{
 "cells": [
  {
   "cell_type": "code",
   "execution_count": null,
   "metadata": {
    "id": "RcF_gAiwwehF"
   },
   "outputs": [],
   "source": [
    "import pandas as pd\n",
    "\n",
    "normal = pd.read_csv('../data/ptbdb_normal.csv', header = None)\n",
    "abnormal = pd.read_csv('../data/ptbdb_abnormal.csv', header = None)"
   ]
  },
  {
   "cell_type": "code",
   "execution_count": null,
   "metadata": {
    "id": "f92Jr4IrvJTL"
   },
   "outputs": [],
   "source": [
    "num_classes = 2"
   ]
  },
  {
   "cell_type": "code",
   "execution_count": null,
   "metadata": {
    "colab": {
     "base_uri": "https://localhost:8080/"
    },
    "id": "n04AVtV4tjJy",
    "outputId": "4f929068-64c5-4056-99ac-44a172cbe616"
   },
   "outputs": [
    {
     "name": "stdout",
     "output_type": "stream",
     "text": [
      "(4046, 187)\n",
      "(10506, 187)\n"
     ]
    }
   ],
   "source": [
    "x_normal = normal.iloc[:,:-1]\n",
    "x_abnormal = abnormal.iloc[:,:-1]\n",
    "print(x_normal.shape)\n",
    "print(x_abnormal.shape)"
   ]
  },
  {
   "cell_type": "code",
   "execution_count": null,
   "metadata": {
    "colab": {
     "base_uri": "https://localhost:8080/"
    },
    "id": "CbLLtb3oZuIr",
    "outputId": "0d336632-e4c2-4d6f-8729-38c79bc08c6b"
   },
   "outputs": [
    {
     "name": "stdout",
     "output_type": "stream",
     "text": [
      "(4046, 1)\n",
      "(10506, 1)\n"
     ]
    }
   ],
   "source": [
    "import numpy as np\n",
    "\n",
    "y_normal = np.zeros((normal.shape[0]))\n",
    "y_normal = pd.DataFrame(y_normal)\n",
    "y_abnormal = np.ones((abnormal.shape[0]))\n",
    "y_abnormal = pd.DataFrame(y_abnormal)\n",
    "print(y_normal.shape)\n",
    "print(y_abnormal.shape)"
   ]
  },
  {
   "cell_type": "code",
   "execution_count": null,
   "metadata": {
    "colab": {
     "base_uri": "https://localhost:8080/"
    },
    "id": "qwmZFKA4hfgu",
    "outputId": "4c12a1d2-8f44-4265-ef5b-5b36e27974e0"
   },
   "outputs": [
    {
     "name": "stdout",
     "output_type": "stream",
     "text": [
      "(14552, 187)\n",
      "(14552, 1)\n"
     ]
    }
   ],
   "source": [
    "x = pd.concat([x_normal, x_abnormal], sort=True)\n",
    "y = pd.concat([y_normal, y_abnormal] ,sort=True)\n",
    "print(x.shape)\n",
    "print(y.shape)"
   ]
  },
  {
   "cell_type": "code",
   "execution_count": null,
   "metadata": {
    "id": "VTMQAJb9hqty"
   },
   "outputs": [],
   "source": [
    "from sklearn.model_selection import train_test_split\n",
    "x_train, x_test, y_train, y_test = train_test_split(x, y, test_size=0.2, random_state=42)"
   ]
  },
  {
   "cell_type": "code",
   "execution_count": null,
   "metadata": {
    "id": "gAOeSV6WursK"
   },
   "outputs": [],
   "source": [
    "x_train = x_train.to_numpy()\n",
    "x_test = x_test.to_numpy()\n",
    "y_train = y_train.to_numpy()\n",
    "y_test = y_test.to_numpy()"
   ]
  },
  {
   "cell_type": "code",
   "execution_count": null,
   "metadata": {
    "colab": {
     "base_uri": "https://localhost:8080/"
    },
    "id": "0KKQIIIQ8piP",
    "outputId": "6176bd29-e887-4895-fded-b02a575ef096"
   },
   "outputs": [
    {
     "name": "stdout",
     "output_type": "stream",
     "text": [
      "(11641, 187, 1)\n",
      "(11641, 2)\n"
     ]
    }
   ],
   "source": [
    "import numpy as np\n",
    "import keras\n",
    "\n",
    "x_train = np.reshape(x_train, (len(x_train),187,1))\n",
    "print(x_train.shape)\n",
    "y_train = keras.utils.to_categorical(y_train, num_classes)\n",
    "print(y_train.shape)"
   ]
  },
  {
   "cell_type": "code",
   "execution_count": null,
   "metadata": {
    "colab": {
     "base_uri": "https://localhost:8080/"
    },
    "id": "51TT8sowwkWu",
    "outputId": "aa272c26-706c-49ce-bcbd-32341580bac5"
   },
   "outputs": [
    {
     "name": "stdout",
     "output_type": "stream",
     "text": [
      "(2911, 187, 1)\n",
      "(2911, 2)\n"
     ]
    }
   ],
   "source": [
    "x_test = np.reshape(x_test, (len(x_test),187,1))\n",
    "print(x_test.shape)\n",
    "y_test = keras.utils.to_categorical(y_test, num_classes)\n",
    "print(y_test.shape)"
   ]
  },
  {
   "cell_type": "code",
   "execution_count": null,
   "metadata": {
    "colab": {
     "base_uri": "https://localhost:8080/"
    },
    "id": "vOIqz4PTL0Mg",
    "outputId": "67714fd2-93aa-4615-811c-2301d780cb3c"
   },
   "outputs": [
    {
     "name": "stdout",
     "output_type": "stream",
     "text": [
      "(11641, 187, 1)\n"
     ]
    }
   ],
   "source": [
    "print(x_train.shape)"
   ]
  },
  {
   "cell_type": "code",
   "execution_count": null,
   "metadata": {
    "colab": {
     "base_uri": "https://localhost:8080/"
    },
    "id": "r365L1kxv3FW",
    "outputId": "7a137976-ada1-47cf-c1c3-492d2463f99d"
   },
   "outputs": [
    {
     "name": "stdout",
     "output_type": "stream",
     "text": [
      "Model: \"sequential\"\n",
      "_________________________________________________________________\n",
      "Layer (type)                 Output Shape              Param #   \n",
      "=================================================================\n",
      "conv1d (Conv1D)              (None, 185, 5)            20        \n",
      "_________________________________________________________________\n",
      "leaky_re_lu (LeakyReLU)      (None, 185, 5)            0         \n",
      "_________________________________________________________________\n",
      "max_pooling1d (MaxPooling1D) (None, 92, 5)             0         \n",
      "_________________________________________________________________\n",
      "conv1d_1 (Conv1D)            (None, 89, 10)            210       \n",
      "_________________________________________________________________\n",
      "leaky_re_lu_1 (LeakyReLU)    (None, 89, 10)            0         \n",
      "_________________________________________________________________\n",
      "max_pooling1d_1 (MaxPooling1 (None, 44, 10)            0         \n",
      "_________________________________________________________________\n",
      "conv1d_2 (Conv1D)            (None, 41, 20)            820       \n",
      "_________________________________________________________________\n",
      "leaky_re_lu_2 (LeakyReLU)    (None, 41, 20)            0         \n",
      "_________________________________________________________________\n",
      "max_pooling1d_2 (MaxPooling1 (None, 20, 20)            0         \n",
      "_________________________________________________________________\n",
      "flatten (Flatten)            (None, 400)               0         \n",
      "_________________________________________________________________\n",
      "dense (Dense)                (None, 30)                12030     \n",
      "_________________________________________________________________\n",
      "leaky_re_lu_3 (LeakyReLU)    (None, 30)                0         \n",
      "_________________________________________________________________\n",
      "dense_1 (Dense)              (None, 20)                620       \n",
      "_________________________________________________________________\n",
      "leaky_re_lu_4 (LeakyReLU)    (None, 20)                0         \n",
      "_________________________________________________________________\n",
      "dense_2 (Dense)              (None, 2)                 42        \n",
      "=================================================================\n",
      "Total params: 13,742\n",
      "Trainable params: 13,742\n",
      "Non-trainable params: 0\n",
      "_________________________________________________________________\n"
     ]
    }
   ],
   "source": [
    "from keras.models import Sequential\n",
    "from keras.layers import Dense, Conv1D, MaxPooling1D, Flatten, LeakyReLU\n",
    "\n",
    "model = Sequential()\n",
    "model.add(Conv1D(5, kernel_size=3, strides=1, input_shape=x_train.shape[1:]))\n",
    "model.add(LeakyReLU())\n",
    "model.add(MaxPooling1D(pool_size=2, strides=2))\n",
    "model.add(Conv1D(10, kernel_size=4, strides=1))\n",
    "model.add(LeakyReLU())\n",
    "model.add(MaxPooling1D(pool_size=2, strides=2))\n",
    "model.add(Conv1D(20, kernel_size=4, strides=1))\n",
    "model.add(LeakyReLU())\n",
    "model.add(MaxPooling1D(pool_size=2, strides=2))\n",
    "model.add(Flatten())\n",
    "model.add(Dense(30))\n",
    "model.add(LeakyReLU())\n",
    "model.add(Dense(20))\n",
    "model.add(LeakyReLU())\n",
    "model.add(Dense(num_classes, activation=\"sigmoid\"))\n",
    "    \n",
    "model.summary()"
   ]
  },
  {
   "cell_type": "code",
   "execution_count": null,
   "metadata": {
    "id": "Kq-eg-vvQFvL"
   },
   "outputs": [],
   "source": [
    "opt = keras.optimizers.SGD(lr=0.003, momentum=0.7)\n",
    "\n",
    "model.compile(loss='categorical_crossentropy',\n",
    "              optimizer=opt,\n",
    "              metrics=['accuracy'])"
   ]
  },
  {
   "cell_type": "code",
   "execution_count": null,
   "metadata": {
    "colab": {
     "base_uri": "https://localhost:8080/"
    },
    "id": "47Utq451Wng1",
    "outputId": "aadc8082-a8f1-4098-bf95-b76164b73453"
   },
   "outputs": [
    {
     "name": "stdout",
     "output_type": "stream",
     "text": [
      "Epoch 1/20\n",
      "91/91 [==============================] - 3s 27ms/step - loss: 0.6333 - accuracy: 0.7248 - val_loss: 0.5909 - val_accuracy: 0.7135\n",
      "Epoch 2/20\n",
      "91/91 [==============================] - 2s 22ms/step - loss: 0.5770 - accuracy: 0.7265 - val_loss: 0.5826 - val_accuracy: 0.7135\n",
      "Epoch 3/20\n",
      "91/91 [==============================] - 2s 22ms/step - loss: 0.5654 - accuracy: 0.7286 - val_loss: 0.5731 - val_accuracy: 0.7135\n",
      "Epoch 4/20\n",
      "91/91 [==============================] - 2s 22ms/step - loss: 0.5633 - accuracy: 0.7212 - val_loss: 0.5605 - val_accuracy: 0.7135\n",
      "Epoch 5/20\n",
      "91/91 [==============================] - 2s 22ms/step - loss: 0.5463 - accuracy: 0.7242 - val_loss: 0.5446 - val_accuracy: 0.7135\n",
      "Epoch 6/20\n",
      "91/91 [==============================] - 2s 22ms/step - loss: 0.5333 - accuracy: 0.7191 - val_loss: 0.5288 - val_accuracy: 0.7135\n",
      "Epoch 7/20\n",
      "91/91 [==============================] - 2s 22ms/step - loss: 0.5200 - accuracy: 0.7219 - val_loss: 0.5158 - val_accuracy: 0.7180\n",
      "Epoch 8/20\n",
      "91/91 [==============================] - 2s 21ms/step - loss: 0.5128 - accuracy: 0.7274 - val_loss: 0.5061 - val_accuracy: 0.7334\n",
      "Epoch 9/20\n",
      "91/91 [==============================] - 2s 21ms/step - loss: 0.4974 - accuracy: 0.7423 - val_loss: 0.4979 - val_accuracy: 0.7588\n",
      "Epoch 10/20\n",
      "91/91 [==============================] - 2s 21ms/step - loss: 0.4868 - accuracy: 0.7640 - val_loss: 0.4899 - val_accuracy: 0.7643\n",
      "Epoch 11/20\n",
      "91/91 [==============================] - 2s 21ms/step - loss: 0.4778 - accuracy: 0.7768 - val_loss: 0.4812 - val_accuracy: 0.7678\n",
      "Epoch 12/20\n",
      "91/91 [==============================] - 2s 21ms/step - loss: 0.4701 - accuracy: 0.7839 - val_loss: 0.4713 - val_accuracy: 0.7719\n",
      "Epoch 13/20\n",
      "91/91 [==============================] - 2s 22ms/step - loss: 0.4669 - accuracy: 0.7797 - val_loss: 0.4608 - val_accuracy: 0.7746\n",
      "Epoch 14/20\n",
      "91/91 [==============================] - 2s 23ms/step - loss: 0.4507 - accuracy: 0.7876 - val_loss: 0.4497 - val_accuracy: 0.7746\n",
      "Epoch 15/20\n",
      "91/91 [==============================] - 2s 22ms/step - loss: 0.4407 - accuracy: 0.7855 - val_loss: 0.4397 - val_accuracy: 0.7705\n",
      "Epoch 16/20\n",
      "91/91 [==============================] - 2s 22ms/step - loss: 0.4305 - accuracy: 0.7863 - val_loss: 0.4293 - val_accuracy: 0.7801\n",
      "Epoch 17/20\n",
      "91/91 [==============================] - 2s 23ms/step - loss: 0.4221 - accuracy: 0.7838 - val_loss: 0.4215 - val_accuracy: 0.7743\n",
      "Epoch 18/20\n",
      "91/91 [==============================] - 2s 23ms/step - loss: 0.4120 - accuracy: 0.7870 - val_loss: 0.4137 - val_accuracy: 0.7764\n",
      "Epoch 19/20\n",
      "91/91 [==============================] - 2s 23ms/step - loss: 0.4087 - accuracy: 0.7816 - val_loss: 0.4063 - val_accuracy: 0.7856\n",
      "Epoch 20/20\n",
      "91/91 [==============================] - 2s 23ms/step - loss: 0.4055 - accuracy: 0.7867 - val_loss: 0.4016 - val_accuracy: 0.7856\n"
     ]
    },
    {
     "data": {
      "text/plain": [
       "<tensorflow.python.keras.callbacks.History at 0x7fb3829ed910>"
      ]
     },
     "execution_count": 14,
     "metadata": {
      "tags": []
     },
     "output_type": "execute_result"
    }
   ],
   "source": [
    "model.fit(x_train, y_train,\n",
    "              batch_size=128,\n",
    "              epochs=20,\n",
    "              validation_data=(x_test, y_test),\n",
    "              shuffle=True)"
   ]
  }
 ],
 "metadata": {
  "colab": {
   "collapsed_sections": [],
   "name": "AI_PTB_CNN.ipynb",
   "provenance": []
  },
  "kernelspec": {
   "display_name": "Python 3",
   "language": "python",
   "name": "python3"
  },
  "language_info": {
   "codemirror_mode": {
    "name": "ipython",
    "version": 3
   },
   "file_extension": ".py",
   "mimetype": "text/x-python",
   "name": "python",
   "nbconvert_exporter": "python",
   "pygments_lexer": "ipython3",
   "version": "3.8.8"
  }
 },
 "nbformat": 4,
 "nbformat_minor": 1
}
