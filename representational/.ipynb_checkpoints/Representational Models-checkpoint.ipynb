{
 "cells": [
  {
   "cell_type": "code",
   "execution_count": 1,
   "metadata": {
    "id": "449xx48yL3zI"
   },
   "outputs": [],
   "source": [
    "from tensorflow.keras.models import Model\n",
    "from tensorflow.keras.layers import Dropout, LSTM, Dense, Conv1D, MaxPooling1D, Flatten, LeakyReLU, Input, Concatenate\n",
    "from tensorflow import keras\n",
    "import tensorflow as tf\n",
    "import pickle"
   ]
  },
  {
   "cell_type": "code",
   "execution_count": 2,
   "metadata": {},
   "outputs": [
    {
     "data": {
      "text/plain": [
       "TensorShape([700432, 187, 1])"
      ]
     },
     "execution_count": 2,
     "metadata": {},
     "output_type": "execute_result"
    }
   ],
   "source": [
    "TRAIN_SET = '../rep_train_set.pickle'\n",
    "TEST_SET = '../rep_test_set.pickle'\n",
    "\n",
    "with open(TEST_SET, 'rb') as file:\n",
    "    test_set = pickle.load(file)\n",
    "    x_test = test_set['x']\n",
    "    y_test = test_set['y']\n",
    "\n",
    "with open(TRAIN_SET, 'rb') as file:\n",
    "    train_set = pickle.load(file)\n",
    "    x_train = train_set['x']\n",
    "    y_train = train_set['y']\n",
    "    \n",
    "x_train = tf.expand_dims(x_train, axis=2)\n",
    "x_test = tf.expand_dims(x_test, axis=2)\n",
    "x_train.shape"
   ]
  },
  {
   "cell_type": "code",
   "execution_count": 3,
   "metadata": {},
   "outputs": [
    {
     "name": "stdout",
     "output_type": "stream",
     "text": [
      "(700432, 8)\n"
     ]
    }
   ],
   "source": [
    "y_train_cat = tf.keras.utils.to_categorical(y_train)\n",
    "y_test_cat = tf.keras.utils.to_categorical(y_test)\n",
    "print(y_train_cat.shape)"
   ]
  },
  {
   "cell_type": "code",
   "execution_count": 4,
   "metadata": {},
   "outputs": [
    {
     "name": "stdout",
     "output_type": "stream",
     "text": [
      "(187, 1)\n"
     ]
    }
   ],
   "source": [
    "print(x_train.shape[1:])"
   ]
  },
  {
   "cell_type": "code",
   "execution_count": 5,
   "metadata": {},
   "outputs": [],
   "source": [
    "def CNN_model(inputs):\n",
    "        x = Conv1D(5, kernel_size=3, strides=1)(inputs)\n",
    "        x = LeakyReLU()(x)\n",
    "        x = MaxPooling1D(pool_size=2, strides=2)(x)\n",
    "        x = Conv1D(10, kernel_size=4, strides=1)(x)\n",
    "        x = LeakyReLU()(x)\n",
    "        x = MaxPooling1D(pool_size=2, strides=2)(x)\n",
    "        x = Conv1D(20, kernel_size=4, strides=1)(x)\n",
    "        x = LeakyReLU()(x)\n",
    "        x = MaxPooling1D(pool_size=2, strides=2)(x)\n",
    "        x = Flatten()(x)\n",
    "        x = Dense(30)(x)\n",
    "        x = LeakyReLU()(x)\n",
    "        x = Dense(20)(x)\n",
    "        x = LeakyReLU()(x)\n",
    "        x = Dense(1, activation=\"sigmoid\")(x)\n",
    "        return x\n",
    "    \n",
    "def LSTM_model(inputs):\n",
    "        x = LSTM(64)(inputs)\n",
    "        x = Dense(128, activation='relu')(x)\n",
    "        x = Dropout(0.3)(x)\n",
    "        x = Dense(1, activation='sigmoid')(x)\n",
    "        return x\n",
    "    \n",
    "def MLP_model(inputs):\n",
    "        x = Dense(5)(inputs)\n",
    "        x = Dense(64, activation='relu')(x)\n",
    "        x = Dense(128, activation='relu')(x)\n",
    "        x = Dense(128, activation='relu')(x)\n",
    "        x = Dense(128, activation='relu')(x)\n",
    "        x = Dropout(0.2)(x)\n",
    "        x = Dense(64, activation='relu')(x)\n",
    "        x = Flatten()(x)\n",
    "        x = Dense(1, activation=\"sigmoid\")(x)\n",
    "        return x"
   ]
  },
  {
   "cell_type": "code",
   "execution_count": 9,
   "metadata": {},
   "outputs": [],
   "source": [
    "inputs = Input(shape=x_train.shape[1:])\n",
    "x = CNN_model(inputs)\n",
    "task1 = Dense(1, activation=\"sigmoid\")(x)\n",
    "task2 = Dense(1, activation=\"sigmoid\")(x)\n",
    "task3 = Dense(1, activation=\"sigmoid\")(x)\n",
    "task4 = Dense(1, activation=\"sigmoid\")(x)\n",
    "task5 = Dense(1, activation=\"sigmoid\")(x)\n",
    "task6 = Dense(1, activation=\"sigmoid\")(x)\n",
    "task7 = Dense(1, activation=\"sigmoid\")(x)\n",
    "task8 = Dense(1, activation=\"sigmoid\")(x)\n",
    "        \n",
    "model_cnn = Model(inputs = inputs, outputs = [task1, task2, task3, task4, task5, task6, task7, task8])\n",
    "opt = keras.optimizers.Adam(lr=0.001, beta_1=0.9, beta_2=0.999, epsilon=1e-08, decay=0.0)\n",
    "model_cnn.compile(loss='binary_crossentropy',\n",
    "              optimizer=opt,\n",
    "              metrics=['accuracy'])"
   ]
  },
  {
   "cell_type": "code",
   "execution_count": 10,
   "metadata": {},
   "outputs": [
    {
     "name": "stdout",
     "output_type": "stream",
     "text": [
      "Epoch 1/5\n",
      "10945/10945 [==============================] - 109s 10ms/step - loss: 3.1590 - dense_26_loss: 0.4353 - dense_27_loss: 0.3045 - dense_28_loss: 0.4218 - dense_29_loss: 0.2773 - dense_30_loss: 0.4700 - dense_31_loss: 0.4569 - dense_32_loss: 0.3559 - dense_33_loss: 0.4373 - dense_26_accuracy: 0.8533 - dense_27_accuracy: 0.8738 - dense_28_accuracy: 0.8754 - dense_29_accuracy: 0.8755 - dense_30_accuracy: 0.7864 - dense_31_accuracy: 0.8056 - dense_32_accuracy: 0.8750 - dense_33_accuracy: 0.8475 - val_loss: 2.3122 - val_dense_26_loss: 0.3054 - val_dense_27_loss: 0.2605 - val_dense_28_loss: 0.3458 - val_dense_29_loss: 0.2481 - val_dense_30_loss: 0.2906 - val_dense_31_loss: 0.2913 - val_dense_32_loss: 0.2601 - val_dense_33_loss: 0.3105 - val_dense_26_accuracy: 0.8750 - val_dense_27_accuracy: 0.8750 - val_dense_28_accuracy: 0.8750 - val_dense_29_accuracy: 0.8750 - val_dense_30_accuracy: 0.8750 - val_dense_31_accuracy: 0.8750 - val_dense_32_accuracy: 0.8750 - val_dense_33_accuracy: 0.8750dense_28_accuracy: 0.8754 - dense_29_accuracy: 0.8756 - dense_30_accuracy: 0.7854 - dense_31_accuracy: 0.8048 - dense_32_accuracy: 0.\n",
      "Epoch 2/5\n",
      "10945/10945 [==============================] - 99s 9ms/step - loss: 2.2898 - dense_26_loss: 0.3019 - dense_27_loss: 0.2592 - dense_28_loss: 0.3412 - dense_29_loss: 0.2404 - dense_30_loss: 0.2879 - dense_31_loss: 0.2897 - dense_32_loss: 0.2627 - dense_33_loss: 0.3067 - dense_26_accuracy: 0.8747 - dense_27_accuracy: 0.8757 - dense_28_accuracy: 0.8757 - dense_29_accuracy: 0.8748 - dense_30_accuracy: 0.8749 - dense_31_accuracy: 0.8742 - dense_32_accuracy: 0.8754 - dense_33_accuracy: 0.8747 - val_loss: 2.2447 - val_dense_26_loss: 0.2933 - val_dense_27_loss: 0.2559 - val_dense_28_loss: 0.3330 - val_dense_29_loss: 0.2038 - val_dense_30_loss: 0.2830 - val_dense_31_loss: 0.2835 - val_dense_32_loss: 0.2923 - val_dense_33_loss: 0.2998 - val_dense_26_accuracy: 0.8750 - val_dense_27_accuracy: 0.8750 - val_dense_28_accuracy: 0.8750 - val_dense_29_accuracy: 0.8750 - val_dense_30_accuracy: 0.8750 - val_dense_31_accuracy: 0.8750 - val_dense_32_accuracy: 0.8750 - val_dense_33_accuracy: 0.8750\n",
      "Epoch 3/5\n",
      "10945/10945 [==============================] - 98s 9ms/step - loss: 2.2091 - dense_26_loss: 0.2957 - dense_27_loss: 0.2680 - dense_28_loss: 0.3314 - dense_29_loss: 0.1463 - dense_30_loss: 0.2826 - dense_31_loss: 0.2832 - dense_32_loss: 0.3010 - dense_33_loss: 0.3009 - dense_26_accuracy: 0.8744 - dense_27_accuracy: 0.8756 - dense_28_accuracy: 0.8755 - dense_29_accuracy: 0.9337 - dense_30_accuracy: 0.8746 - dense_31_accuracy: 0.8749 - dense_32_accuracy: 0.8747 - dense_33_accuracy: 0.8753 - val_loss: 2.1317 - val_dense_26_loss: 0.2899 - val_dense_27_loss: 0.2967 - val_dense_28_loss: 0.3131 - val_dense_29_loss: 0.0494 - val_dense_30_loss: 0.2837 - val_dense_31_loss: 0.2840 - val_dense_32_loss: 0.3230 - val_dense_33_loss: 0.2920 - val_dense_26_accuracy: 0.8750 - val_dense_27_accuracy: 0.8750 - val_dense_28_accuracy: 0.8750 - val_dense_29_accuracy: 1.0000 - val_dense_30_accuracy: 0.8750 - val_dense_31_accuracy: 0.8750 - val_dense_32_accuracy: 0.8750 - val_dense_33_accuracy: 0.8750\n",
      "Epoch 4/5\n",
      "10945/10945 [==============================] - 98s 9ms/step - loss: 2.1185 - dense_26_loss: 0.2918 - dense_27_loss: 0.3031 - dense_28_loss: 0.3116 - dense_29_loss: 0.0381 - dense_30_loss: 0.2822 - dense_31_loss: 0.2833 - dense_32_loss: 0.3150 - dense_33_loss: 0.2934 - dense_26_accuracy: 0.8743 - dense_27_accuracy: 0.8751 - dense_28_accuracy: 0.8751 - dense_29_accuracy: 1.0000 - dense_30_accuracy: 0.8754 - dense_31_accuracy: 0.8750 - dense_32_accuracy: 0.8748 - dense_33_accuracy: 0.8751 - val_loss: 2.0921 - val_dense_26_loss: 0.2897 - val_dense_27_loss: 0.3067 - val_dense_28_loss: 0.3057 - val_dense_29_loss: 0.0275 - val_dense_30_loss: 0.2821 - val_dense_31_loss: 0.2828 - val_dense_32_loss: 0.3076 - val_dense_33_loss: 0.2899 - val_dense_26_accuracy: 0.8750 - val_dense_27_accuracy: 0.8750 - val_dense_28_accuracy: 0.8750 - val_dense_29_accuracy: 1.0000 - val_dense_30_accuracy: 0.8750 - val_dense_31_accuracy: 0.8750 - val_dense_32_accuracy: 0.8750 - val_dense_33_accuracy: 0.8750\n",
      "Epoch 5/5\n",
      "10945/10945 [==============================] - 103s 9ms/step - loss: 2.0884 - dense_26_loss: 0.2894 - dense_27_loss: 0.3070 - dense_28_loss: 0.3047 - dense_29_loss: 0.0252 - dense_30_loss: 0.2817 - dense_31_loss: 0.2828 - dense_32_loss: 0.3077 - dense_33_loss: 0.2899 - dense_26_accuracy: 0.8748 - dense_27_accuracy: 0.8751 - dense_28_accuracy: 0.8750 - dense_29_accuracy: 1.0000 - dense_30_accuracy: 0.8753 - dense_31_accuracy: 0.8748 - dense_32_accuracy: 0.8753 - dense_33_accuracy: 0.8750 - val_loss: 2.0783 - val_dense_26_loss: 0.2874 - val_dense_27_loss: 0.3071 - val_dense_28_loss: 0.2987 - val_dense_29_loss: 0.0211 - val_dense_30_loss: 0.2824 - val_dense_31_loss: 0.2831 - val_dense_32_loss: 0.3113 - val_dense_33_loss: 0.2872 - val_dense_26_accuracy: 0.8750 - val_dense_27_accuracy: 0.8750 - val_dense_28_accuracy: 0.8750 - val_dense_29_accuracy: 1.0000 - val_dense_30_accuracy: 0.8750 - val_dense_31_accuracy: 0.8750 - val_dense_32_accuracy: 0.8750 - val_dense_33_accuracy: 0.8750\n"
     ]
    }
   ],
   "source": [
    "history_cnn = model_cnn.fit(x_train, [y_train_cat[:,0],y_train_cat[:,1],y_train_cat[:,2],y_train_cat[:,3],y_train_cat[:,4],y_train_cat[:,5],y_train_cat[:,6],y_train_cat[:,7]],\n",
    "               batch_size=64,\n",
    "               epochs=5,\n",
    "               validation_data=(x_test, [y_test_cat[:,0],y_test_cat[:,1],y_test_cat[:,2],y_test_cat[:,3],y_test_cat[:,4],y_test_cat[:,5],y_test_cat[:,6],y_test_cat[:,7]]),\n",
    "               shuffle=True)"
   ]
  },
  {
   "cell_type": "code",
   "execution_count": 11,
   "metadata": {},
   "outputs": [
    {
     "name": "stdout",
     "output_type": "stream",
     "text": [
      "INFO:tensorflow:Assets written to: CNN_REP\\assets\n"
     ]
    }
   ],
   "source": [
    "model_cnn.save(\"CNN_REP\")"
   ]
  },
  {
   "cell_type": "code",
   "execution_count": 7,
   "metadata": {},
   "outputs": [],
   "source": [
    "inputs = Input(shape=x_train.shape[1:])\n",
    "x = LSTM_model(inputs)\n",
    "task1 = Dense(1, activation=\"sigmoid\")(x)\n",
    "task2 = Dense(1, activation=\"sigmoid\")(x)\n",
    "task3 = Dense(1, activation=\"sigmoid\")(x)\n",
    "task4 = Dense(1, activation=\"sigmoid\")(x)\n",
    "task5 = Dense(1, activation=\"sigmoid\")(x)\n",
    "task6 = Dense(1, activation=\"sigmoid\")(x)\n",
    "task7 = Dense(1, activation=\"sigmoid\")(x)\n",
    "task8 = Dense(1, activation=\"sigmoid\")(x)\n",
    "        \n",
    "model_lstm = Model(inputs = inputs, outputs = [task1, task2, task3, task4, task5, task6, task7, task8])\n",
    "opt = keras.optimizers.Adam(lr=0.001, beta_1=0.9, beta_2=0.999, epsilon=1e-08, decay=0.0)\n",
    "model_lstm.compile(loss='binary_crossentropy',\n",
    "              optimizer=opt,\n",
    "              metrics=['accuracy'])"
   ]
  },
  {
   "cell_type": "code",
   "execution_count": 9,
   "metadata": {},
   "outputs": [
    {
     "name": "stdout",
     "output_type": "stream",
     "text": [
      "Epoch 1/5\n",
      "10945/10945 [==============================] - 837s 76ms/step - loss: 3.1885 - dense_2_loss: 0.3993 - dense_3_loss: 0.3988 - dense_4_loss: 0.3986 - dense_5_loss: 0.3976 - dense_6_loss: 0.3983 - dense_7_loss: 0.3993 - dense_8_loss: 0.3986 - dense_9_loss: 0.3980 - dense_2_accuracy: 0.8737 - dense_3_accuracy: 0.8738 - dense_4_accuracy: 0.8738 - dense_5_accuracy: 0.8750 - dense_6_accuracy: 0.8740 - dense_7_accuracy: 0.8737 - dense_8_accuracy: 0.8750 - dense_9_accuracy: 0.8750 - val_loss: 3.0142 - val_dense_2_loss: 0.3768 - val_dense_3_loss: 0.3768 - val_dense_4_loss: 0.3768 - val_dense_5_loss: 0.3768 - val_dense_6_loss: 0.3768 - val_dense_7_loss: 0.3768 - val_dense_8_loss: 0.3768 - val_dense_9_loss: 0.3768 - val_dense_2_accuracy: 0.8750 - val_dense_3_accuracy: 0.8750 - val_dense_4_accuracy: 0.8750 - val_dense_5_accuracy: 0.8750 - val_dense_6_accuracy: 0.8750 - val_dense_7_accuracy: 0.8750 - val_dense_8_accuracy: 0.8750 - val_dense_9_accuracy: 0.8750 - dense_5_loss: 0.5491 - dense_6_loss: 0.6956 - dense_7_loss: 0.8863 - dense_8_loss: 0.6738 - dense_9_loss: 0.6236 - dense_2_accuracy: 0.3365 - dense_3_accuracy: 0.3456 - dense_4_accuracy: 0.3828 - dense_5_accuracy: 0.8852 - dense_6_accuracy: 0.4405 - dense_7_accuracy: 0.3269 - d - ETA: 12:26 - loss: 5.5732 - dense_2_loss: 0.7286 - dense_3_loss: 0.7335 - dense_4_loss: 0.6993 - dense_5_loss: 0.6122 - dense_6_loss: 0.6878 - dense_7_loss: 0.7855 - dense_8_loss: 0.6763 - dense_9_loss: 0.6501 - dense_2_accuracy: 0.6066 - dense_3_accuracy: 0.5983 - dense_4_accuracy: 0.6195 - dense_5_accuracy: 0.8833 - dense_6_accuracy: 0.6483 - dense_7_accuracy: 0.5916 - dense_8_accuracy: 0.8729 - dense_9_ac - ETA: 12:24 - loss: 5.5509 - dense_2_loss: - ETA: 11:48 - loss: 4.7441 - dense_2_loss: 0.5983 - dense_3_loss: 0. - ETA: 11:3 - ETA: 9:29 - loss: 3.6968 - dense_2_loss: 0.4643 - dense_3_loss: 0.4623 - dense_4_loss: 0.4620 - dense_5_loss: 0.4592 - dense_6_loss: 0.4619 - dense_7_loss: 0.4654 - dense_8_loss: 0.4618 - dense_9_loss: 0.4599 - dense_2_accuracy: 0.8702 - dense_3_accuracy: 0.8706 - dense_4_accuracy: 0.8705 - dense_5_accuracy: 0.8745 - dense_6_accuracy: 0.8706 - den - ETA: 9:23 - loss: 3.6797 - dense_2_loss: 0.4619 - den - ETA: 8:26 - loss: 3.5371 - dense_2_loss: 0.4437 - dense_3_loss: 0.4418 - dense_4_loss: 0.4424 - dense_5_loss: 0.4395 - dense_6_loss: 0.4424 - dense_7_loss: 0.4451 - dense_8_loss: 0.4424 - dense_9_loss: 0.4398 - dense_2_accura - ETA: 4:49 - loss: 3.2934 - dense_2_loss: 0.4126 - dense_3_loss: 0.4121 - dense_4_loss: 0.4117 - dense_5_loss - ETA: 4:26 - loss: 3.2810 - dense_2_loss: 0.4107 - dense_3_loss: 0.4105 - dense_4_loss: 0.4102 - dense_5_loss: 0.4084 - dense_6_loss: 0.4094 - dense_7_loss: 0.4120 - dense_8_loss: 0.4105 - dense_9_loss: 0.4092 - dense_2_accuracy:  - ETA: 4:13 - loss: 3.2740 - dense_2_loss: 0.4100 - dense_3_loss: 0.4095 - dense_4_loss: 0.4091 - dense_5_loss: 0.4076 - dense_6_loss: 0.4087 - dense_7_loss: 0.4112 - dense_8_loss: 0.4095 - dense_9_loss: 0.4084 - dense_2_accuracy: 0.8733 - dense_3_accuracy: 0.8732 - dense_4_accuracy: 0.8733 - dense_5_accuracy: 0.8751 - dense_6_accur - ETA: 4:07 - loss: 3.2708 - dense_2_loss: 0.4097 - dense_3_loss: 0.4091 - dense_4_loss: 0.4086 - dense_5_loss: 0.4073 - dense_6_loss: 0.4083 - dense_7_loss: 0.4108 - dense_8_loss: 0.4090 - dense_9_loss: 0.4080 - dense_2_accuracy: 0.8732 - dense_3_accuracy: 0.8733 - dense_4_accuracy: 0.8734 - dense_5_accuracy: 0.8751 - dense_6_accuracy: 0.8736 - dense_7_accuracy: 0.8727 - dense_8_accuracy: 0.8749 - dense_9_accuracy: 0.875 - ETA: 4: - ETA: 3:08 - loss: 3.2446 - dense_2_loss: 0. - ETA: 2:11 - loss: 3.2241 - dense_2_loss: 0.4040 - dense_3_loss: 0.4032 - dense_4_loss: 0.4029 - dense_5_loss: 0.4016 - dense_6_loss: 0.4024 - dense_7_loss: 0.4048 - dense_8_loss: 0.4032 - ETA: 1:54 - loss: 3.2187 - dense_2_loss: 0.4034 - dense_3_loss: 0.4025 - dense_4_loss: 0.4022 - dense_5_loss: 0.4009 - dense_6_loss: 0.4018 - dense_7_loss: 0.4040 - dense_8_loss: 0.4026 - dense_9_loss: 0.4012 - dense_2_accuracy: 0.8734 - dense_3_accuracy: 0.8736 - dense_4_accura - ETA: 1:44 - loss: 3.2156 - dense_2_loss: 0.4031 - dense_3_loss: 0.4021 - dense_4_loss: 0.4020 - dense_5_loss: 0.4005 - dense_6_loss: 0.4015 - dense_7_loss: 0.4035 - dense_8_loss: 0.4020 - dense_9_loss: 0.4009 - dense_2_accuracy: 0.8734 - dense_3_accuracy: 0.8737 - dense_4_accuracy: 0.8736 - dense_5_accuracy: 0.8751 - dense_6_accuracy: 0.8739 - dense_7_accuracy: 0.8731 - dense_8_accuracy: 0.875 - ETA: 1:42 - loss: 3.2150 - dense_2_loss: 0.4029 - dense_3_loss: 0.4020 - dense_4_loss: 0.4019 - dense_5_loss: 0.4005 - dense_6_loss: 0.4014 - dense_7_loss: 0.4035 - dense_8_loss: 0.4020 - dense_9_loss: 0.4008 - dense_2_accuracy: 0.8734 - dense_3_accuracy: 0.8737 - dense_4_accuracy: 0.8736 - dense_5_accuracy: 0.8751 - dense_6_accuracy: 0.8 - ET - ETA: 17s - loss: 3.1926 - dense_2_loss: 0.3999 - dense_3_loss: 0.3994 - dense_4_loss: 0.3991 - dense - ETA: 2s - loss: 3.1892 - dense_2_loss: 0.3994 - dense_3_loss: 0.3989 - dense_4_loss: 0.3987 - dense_5_loss: 0.3976 - dense_6_loss: 0.3983 - dense_7_loss: 0.3994 - dense_8_loss: 0.3987 - dense_9_loss: 0.3981 - dense_2_accuracy: 0.8737 - dense_3_accuracy: 0.8738 - dense_4_accuracy: 0.8738 - dense_5_accuracy: 0.8750 - dense_6_accuracy: 0.8741 - dense_7_accuracy: 0.8737 - dense_8_ac\n",
      "Epoch 2/5\n",
      "10945/10945 [==============================] - 908s 83ms/step - loss: 2.4749 - dense_2_loss: 0.3498 - dense_3_loss: 0.3538 - dense_4_loss: 0.3502 - dense_5_loss: 0.2276 - dense_6_loss: 0.2478 - dense_7_loss: 0.2626 - dense_8_loss: 0.3233 - dense_9_loss: 0.3596 - dense_2_accuracy: 0.8750 - dense_3_accuracy: 0.8750 - dense_4_accuracy: 0.8750 - dense_5_accuracy: 0.8750 - dense_6_accuracy: 0.8750 - dense_7_accuracy: 0.8750 - dense_8_accuracy: 0.8750 - dense_9_accuracy: 0.8750 - val_loss: 2.3128 - val_dense_2_loss: 0.3423 - val_dense_3_loss: 0.3443 - val_dense_4_loss: 0.3419 - val_dense_5_loss: 0.1761 - val_dense_6_loss: 0.2099 - val_dense_7_loss: 0.2358 - val_dense_8_loss: 0.3165 - val_dense_9_loss: 0.3460 - val_dense_2_accuracy: 0.8750 - val_dense_3_accuracy: 0.8750 - val_dense_4_accuracy: 0.8750 - val_dense_5_accuracy: 0.8750 - val_dense_6_accuracy: 0.8750 - val_dense_7_accuracy: 0.8750 - val_dense_8_accuracy: 0.8750 - val_dense_9_accuracy: 0.8750\n",
      "Epoch 3/5\n",
      "10945/10945 [==============================] - 928s 85ms/step - loss: 2.2899 - dense_2_loss: 0.3465 - dense_3_loss: 0.3456 - dense_4_loss: 0.3460 - dense_5_loss: 0.1643 - dense_6_loss: 0.2104 - dense_7_loss: 0.2050 - dense_8_loss: 0.3230 - dense_9_loss: 0.3491 - dense_2_accuracy: 0.8750 - dense_3_accuracy: 0.8750 - dense_4_accuracy: 0.8750 - dense_5_accuracy: 0.9304 - dense_6_accuracy: 0.8750 - dense_7_accuracy: 0.8929 - dense_8_accuracy: 0.8750 - dense_9_accuracy: 0.8750 - val_loss: 2.2370 - val_dense_2_loss: 0.3502 - val_dense_3_loss: 0.3463 - val_dense_4_loss: 0.3497 - val_dense_5_loss: 0.1410 - val_dense_6_loss: 0.2164 - val_dense_7_loss: 0.1697 - val_dense_8_loss: 0.3147 - val_dense_9_loss: 0.3490 - val_dense_2_accuracy: 0.8750 - val_dense_3_accuracy: 0.8750 - val_dense_4_accuracy: 0.8750 - val_dense_5_accuracy: 1.0000 - val_dense_6_accuracy: 0.8750 - val_dense_7_accuracy: 0.9700 - val_dense_8_accuracy: 0.8750 - val_dense_9_accuracy: 0.8750 - dense_5_loss: 0.1663 - dense_6_loss: 0.2099 - dense_7_loss: 0.2078 - dense_8_loss: 0.3233 - dense_9_loss: 0.3491 - dense_2_accuracy: 0.8749 - dense_3_accuracy: 0.8750 - dense_4_accuracy: 0.8750 - dense_5_accuracy: 0.9236 - dense_6_accuracy: 0.8749 - den - ETA: 1:11 - loss: 2.2933 - dense_2_loss: 0.3463 - dense_3_loss: 0.3453 - dense_4_loss: 0.3458 - dense_5_loss: 0.1662 - dense_6_loss: 0.2099 - dense_7_loss: 0.2075 - dense_8_loss: 0.3233 - dense_9_loss: 0.3491 - dense_2_accuracy: 0.8749 - dense_3_accuracy: 0.8750 - dense_4_accuracy: 0.8750 - dense_5_ac - ETA: 1:02 - loss: 2.2930 - dense_2_loss: 0.3463 - dense_3_loss: 0.3453 - dense_4_loss: 0.3459 - dense_5_loss: 0.1660 - dense_6_loss: 0.2099 - dense_7_loss: 0.2072 - dense_8_loss: 0.3232 - dense_9_loss: 0.3491 - dense_2_accuracy: 0.8750 - dense_3_accuracy: 0.8750 - dense_4_accuracy: 0.8749 - dense_5_accuracy: 0.9251 - dense_6_accuracy: 0.8749 - dense_7_accuracy: 0.8869 - dense_8_accuracy: 0.8 - ETA: 59s - loss: 2.2928 - dense_2_loss: 0.3463 - dense_3_loss: 0.3454 - dense_4_loss: 0.3459 - dense_5_loss: 0.1659 - dense_6_loss: 0.2099 - dense_7_loss: 0.2071 - dense_8_loss: 0.3232 - dense_9_loss: 0.3491 - dense_2_accuracy: 0.8750 - dense_3_accuracy: 0.8750 - dense_4_accuracy: 0.8749 - dense_5_accuracy: 0.9253 - dense_6_accuracy: 0.8749 - dense_7_accuracy: 0.8871 - dense_8_accuracy: 0.8752 - de - ETA: 58s - loss: 2.2928 - dense_2_loss: 0.3463 - dense_3_loss: 0.3454 - dense_4_loss: 0.3459 - dense_5_loss - ETA: 46s - loss: 2.2921 - dense_2_loss: 0.3463 - dense_3_loss: 0.3455 - dense_4_loss: 0.3459 - dense_5_loss: 0.1656 - dense_6_loss: 0.2100 - dense_7_loss: 0.2066 - dense_8_loss: 0.3231 - dense_9_loss: 0.3490 - dense_2_accuracy: 0 - ETA: 39s - loss: 2.2918 - dense_2_loss: 0.3464 - dense_3_loss: 0.3455 - dense_4_loss: 0.3460 - dense_5_loss: 0.1654 - dense_6_loss: 0.2100 - dense_7_loss: 0.2063 - dense_8_loss: 0.3231 - dense_9_loss:  - ETA: 30s - loss: 2.2914 - dense_2_loss: 0.3465 - dense_3_loss: 0.3454 - dense_4_loss: 0.3461 - dense_5_loss: 0.1652 - dense_6_loss: 0.2101 - dense_7_loss: 0.2061 - dense_8_loss: 0.3 - ETA: 20s - loss: 2.2909 - dense_2_loss: 0.3465 - dense_3_loss: 0.3455 - dense_4_loss: 0.3461 - dense_5_loss: 0.1649 - dense_6_loss: 0.2102 - dense_7_loss: 0.2058 - dense_8_loss: 0.3230 - dense_9_loss: 0.3490 - dense_2_accuracy: 0.8750 - dense_3_accuracy: 0.8750 - dense_4_accuracy: - ETA: 15s - loss: 2.2906 - dense_2_loss: 0.3465 - dense_3_loss: 0.3455 - dense_4_loss: 0.3461 - dense_5_loss: 0.1648 - dense_6_loss: 0.2102 - dense_7_loss: 0.2055 - dense_8_loss: 0.3230 - dense_9_loss: 0.3490 - dense_2_accuracy: 0.8750 - dense_3_accuracy: 0.8750 - dense_4_accuracy: 0.8749 - dense_5_accuracy: 0.9292 - d - ETA: 11s - loss: 2.2904 - dense_2_loss: 0.3465 - dense_3_loss: 0.3455 - dense_4_loss: 0.3461 - dense_5_loss: 0.1646 - dense_6_loss: 0.2103 - dense_7_loss: 0.2054 - dense_8_loss: 0.3230 - dense_9_loss: 0.3491 - dense_2_accuracy: 0.8750 - dense_3_accuracy: 0.8750 - dense_4_accuracy: 0.8749 - dense_5_accuracy: 0.9296 - dense_6_ - ETA: 4s - loss: 2.2901 - dense_2_loss: 0.3466 - dense_3_loss: 0.3456 - dense_4_loss: 0.3461 - dense_5_loss: 0.1644 - dense_6_loss: 0.2103 - dense_7_loss: 0.2052 - dense_8_loss: 0.3229 - dense_9_loss: 0.3491 - dense_2_accuracy: 0.8749 - dense_3_accuracy: 0.8750 - dense_4_accuracy: 0.8750 - dense_5_accuracy: 0.9301 - dense_6_accuracy: 0.8750 - dense_7_accuracy: \n",
      "Epoch 4/5\n"
     ]
    },
    {
     "name": "stdout",
     "output_type": "stream",
     "text": [
      "10945/10945 [==============================] - 935s 85ms/step - loss: 2.1862 - dense_2_loss: 0.3487 - dense_3_loss: 0.3481 - dense_4_loss: 0.3489 - dense_5_loss: 0.0810 - dense_6_loss: 0.2571 - dense_7_loss: 0.1468 - dense_8_loss: 0.3062 - dense_9_loss: 0.3494 - dense_2_accuracy: 0.8750 - dense_3_accuracy: 0.8750 - dense_4_accuracy: 0.8750 - dense_5_accuracy: 0.9993 - dense_6_accuracy: 0.8577 - dense_7_accuracy: 0.9815 - dense_8_accuracy: 0.8750 - dense_9_accuracy: 0.8750 - val_loss: 2.1338 - val_dense_2_loss: 0.3465 - val_dense_3_loss: 0.3438 - val_dense_4_loss: 0.3466 - val_dense_5_loss: 0.0511 - val_dense_6_loss: 0.2709 - val_dense_7_loss: 0.1369 - val_dense_8_loss: 0.2926 - val_dense_9_loss: 0.3455 - val_dense_2_accuracy: 0.8750 - val_dense_3_accuracy: 0.8750 - val_dense_4_accuracy: 0.8750 - val_dense_5_accuracy: 0.9944 - val_dense_6_accuracy: 0.8750 - val_dense_7_accuracy: 0.9847 - val_dense_8_accuracy: 0.8750 - val_dense_9_accuracy: 0.8750oss: 2.2486 - dense_2_loss: 0.3460 - dense_3_loss: 0.3480 - dense_4_loss: 0.3518 - dense_5_loss: 0.1342 - dense_6_loss: 0.2225 - dense_7_loss: 0.1742 - dense_8_loss: 0.3229 - dense_9_loss: 0.3491 - dense_2_accuracy: 0.8771 - dense_ - ETA: 15:11 - loss: 2.2463 - dense_2_loss: 0.3455 - dense_3_loss: 0.3466 - dense_4_loss: - ETA: 11:04 - loss: 2.2290 - dense_2_loss: 0.3487 - dense_3_loss: 0.3465 - dense_4_loss: 0.3477 - dense_5_loss: 0.1202 - den - ETA: 10:53 - loss: 2.2282 - dense_2_loss: 0.3489 - dense_3_loss: 0.3466 - dense_4_loss: 0.3482 - dense_5_loss: 0.1192 - dense_6_loss: 0.2354 - dense_7_loss: 0.1639 - dense_8_loss: 0.3168 - dense_9_loss: 0.3494 - dense_2_accuracy: 0.8752 - dense_3_accuracy: 0.8757 - dense_4_accuracy: 0.8755 - dense_5_accuracy: 0.9992 - dense_6_accuracy: 0.8483 - dense_7_ - ETA: 42s - loss: 2.1881 - dense_2_loss: 0.3488 - dense_3_loss: 0.3482 - dense_4_loss: 0.3491 - dense_5_loss: 0.0823 - dense_6_loss: 0.2563 - dense_7_loss: 0.1476 - dense_8_loss: 0.3065 - dense_9_loss: 0.3493 - dense_2_accuracy: 0.8750 - dense_3_accuracy: 0.8749 - den - ETA: 36s - loss: 2.1878 - dense_2_loss: 0.3488 - dense_3_loss: 0.3482 - dense_4_loss: 0.3491 - dense_5_loss: 0.0820 - dense_6_loss: 0.2565 - dense_7_loss: 0.1475 - dense_8_loss: 0.3066 - dense_9_loss: 0.3492 - dense_2_accuracy: 0.8749 - dense_3_accuracy: 0.8749 - dense_4_acc - ETA: 30s - loss: 2.1875 - dense_2_loss: 0.3487 - dense_3_loss: 0.3481 - dense_4_loss: 0.3491 - dense_5_loss: 0.0817 - dense_6_loss: 0.2566 - dense_7_loss: 0.1473 - dense_8_loss: 0.3066 - dense_9_loss: 0.3492 - dense_2_accuracy: 0.8750 - dense_3_accuracy: 0.8750 - dense_4_accuracy: 0.8749 - dense_5_accuracy: 0.9996 - dense_6_accuracy: 0.8570 - dense_7_accuracy: 0.98 - ETA: 28s - loss: 2.1873 - dense_2_loss: 0.3488 - dense_3_loss: 0.3482 - dense_4_loss: 0.3491 - dense_5_loss: 0.0816 - dense_6_loss: 0.2567 - dense_7_loss: 0.1472 - dense_8_loss: 0.3065 - dense_9_loss: 0.3492 - dense_2_accuracy: 0.8750 - dense_3_accuracy: 0.8750 - dense_4_accuracy: 0.8749 - dense_5_accuracy: 0.9996 - dense_6_accuracy: 0.8570 - dense_7_accuracy: 0.98 - ETA: 25s - loss: 2.1871 - dense_2_loss: 0.3487 - dense_3_loss: 0.3482 - dense_4_loss: 0.3491 - dense_5_loss: 0.0815 - dense_6_loss: 0.2567 - dense_7_loss: 0.1472 - dense_8_loss: 0.3065 - dense_9_loss: 0.3491 - dense_2_accuracy: 0.8750 - dense_3_accuracy: 0.8749 - dense_4_accuracy: 0.8749 - dense_5_accuracy: 0.9996 - dense_6_accuracy: 0.8571 - dense_7_accuracy: 0.9814 - dense_8_accuracy: 0.8750 - dense_9_accuracy: 0.87 - ETA: 25s - loss: 2.1871 - dense_2_loss: 0.3487 - dense_3_loss: 0.3482 - dense_4_loss: 0.3491 - dense_5_loss: 0.0815 - dense_6_loss: 0.2568 - dense_7_loss: 0.1472 - dense_8_loss: 0.3065 - dense_9_loss: 0.3491 - dense_2_accuracy: 0.8750 - dense_3_accuracy: 0.8750 - dense_4_accuracy: 0.8749 - dense_5_accuracy: 0.9996 - ETA: 21s - loss: 2.1870 - dense_2_loss: 0.3487 - dense_3_loss: 0.3482 - dense_4_loss: 0.3491 - dense_5_loss: 0.0815 - dense_6_loss: 0.2568 - dense_7_loss: 0.1471 - dense_8_loss: 0.3064 - dense_9_loss: 0.3493 - dense_2_accuracy: 0.8750 - dense_3_accuracy: 0.8750 - ETA: 15s - loss: 2.1869 - dense_2_loss: 0.3486 - dense_3_loss: 0.3482 - dense_4_loss: 0.3491 - dense_5_loss: 0.0815 - dense_6_loss: 0.2568 - dense_7_loss: 0.1470 - \n",
      "Epoch 5/5\n",
      " 1670/10945 [===>..........................] - ETA: 14:18 - loss: 2.1365 - dense_2_loss: 0.3483 - dense_3_loss: 0.3498 - dense_4_loss: 0.3508 - dense_5_loss: 0.0537 - dense_6_loss: 0.2687 - dense_7_loss: 0.1250 - dense_8_loss: 0.2915 - dense_9_loss: 0.3488 - dense_2_accuracy: 0.8751 - dense_3_accuracy: 0.8741 - dense_4_accuracy: 0.8740 - dense_5_accuracy: 0.9950 - dense_6_accuracy: 0.8765 - dense_7_accuracy: 0.9874 - dense_8_accuracy: 0.8751 - dense_9_accuracy: 0.8753 ETA: 15:58 - loss: 2.1504 - dense_2_loss: 0.3526 - dense_3_loss: 0.3372 - dense_4_loss: 0.3590 - dense_5_loss: 0.0577 - dense_6_loss: 0.2742 - dense_7_loss: 0.1276 - dense_8_loss: 0.3006 - dense_9_loss: 0.3415 - dense_2_accuracy: 0.8725 - dense_3_accuracy: 0.8801 - dense_4_accuracy: 0.8674 - dense_5_accuracy: 0.9924 - dense_6_accuracy: 0.8692 - dense_7_accuracy: 0.9862 - dense_8_accuracy: 0.8681 - dense_9_accuracy: 0.87 - ETA: 16:00 - loss: 2.1485 - dense_2_loss: 0.3526 - dense_3_loss: 0.3371 - dense_4_loss: 0.3576 - dense_5_loss: 0.0582 - dense_6_loss: 0.2753 - dense_7_loss: 0.1284 - dense_8_loss: 0.2981 - dense_9_loss: 0.3412 - dense_2_accuracy: 0.8725 - dense_3_accuracy: 0.8803 - dense_4_a - ETA: 16:12 - loss: 2.1488 - dense_2_loss: 0.3471 - dense_3_loss: 0.3609 - dense_4_loss: 0.3522 - dense_5_loss: 0.0536 - dense_6_loss: 0.2729 - dense_7_loss: 0.1250 - dense_8_loss: 0.2896 - dense_9_loss: 0.3475 - dense_2_accuracy: 0.8755 - dense_3_accuracy: 0.8674 - dense_4 - ETA: 16:09 - loss: 2.1479 - dense_2_loss: 0.3535 - dense_3_loss: 0.3553 - dense_4_loss: 0.3486 - dense_5_loss: 0.0532 - dense_6_loss: 0.2688 - dense_7_loss: 0.1269 - dense_8_loss: 0.2895 - dense_9_loss: 0.3522 - dense_2_accuracy: 0.8725 - dense_3_accuracy: 0.8711 - dense_4_accuracy: 0.8748 - dense_5_accuracy: 0.9950 - dense_6_accuracy: 0.8731 - dense_7_accuracy: 0.9873 - dense_8 - ETA: 16:08 - loss: 2.1468 - dense_2_loss: 0.3532 - dense_3_loss: 0.3528 - dense_4_loss: 0.3495 - dense_5_loss: 0.0531 - dense_6_loss: 0.2691 - dense_7_loss: 0.1261 - dense_8_loss: 0.2903 - dense_9_loss: 0.3529 - dense_2_accuracy: 0.8726 - dense_3_accuracy: 0.8726 - dense_4_accuracy: 0.8744 - dense_5_accuracy: 0.9950 - dense_6_accuracy: 0.8728 - dense_7_accuracy: 0.9878 - dense_8_accurac - ETA: 16:06 - loss: 2.1465 - dense_2_loss: 0.3528 - dense_3_loss: 0.3513 - dense_4_loss: 0.3513 - dense_5_loss: 0.0532 - dense_6_loss: 0.2681 - dense_7_loss: 0.1266 - dense_8_loss: 0.2898 - dense_9_loss: 0.3534 - dense_2_accuracy: 0.8729 - dense_3_accuracy: 0.8733 - dense_4_accuracy: 0.8734 - dense_5_accuracy: 0.9949 - dense_6_accuracy: 0.8739 - dense_7_accuracy: 0. - ETA: 16:03 - loss: 2.1453 - dense_2_loss: 0.3545 - dense_3_loss: 0.3516 - dense_4_l - ETA: 15:53 - loss: 2.1424 - dense_2_loss: 0.3518 - dense_3_loss: 0.3499 - dense_4_loss: 0.3519 - dense_5_loss: 0.0554 - dense_6_loss: 0.2681 - dense_7_loss: 0.1262 - dense_8_loss: 0.2919 - dense_9_loss: 0.3473 - dense_2_accuracy: 0.8728 - dense_3_accuracy: 0.8740 - d - ETA: 15:41 - loss: 2.1412 - dense_2_loss: 0.3495 - dense_3_loss: 0.3497 - dense_4_loss: 0.3525 - dense_5_loss: 0.0558 - dense_6_loss: 0.2674 - dense_7_loss: 0.1251 - dense_8_loss: 0.2905 - dense_9_loss: 0.3507 - dense_2_accuracy: 0.8741 - dense_3_accuracy: 0.8741 - dense_4_accuracy: 0.8724 - dense_5_accuracy: 0.9939 - dense_6_accuracy: 0.8762 - dense_7_accuracy: 0.9881 - dense_8_accuracy: 0.8750 - dense_9_accuracy: 0. - ETA: 15:41 - loss: 2.1412 - dense_2_loss: 0.3494 - dense_3_loss: 0.3498 - dense_4_loss: 0.3526 - dense_5_loss: 0.0558 - dense_6_loss: 0.2674 - dense_7_loss: 0.1252 - dense_8_loss: 0.2904 - dense_9_loss: 0.35 - ETA: 14:56 - loss: 2.1373 - dense_2_loss: 0.3486 - dense_3_loss: 0.3466 - dense_4_loss: 0.3501 - dense_5_loss: 0.0552 - dense_6_loss: 0.2686 - dense_7_loss: 0.1256 - dense_8_loss: 0.2936 - dense_9_loss: 0.3490 - dense_2_accuracy: 0.8748 - dense_3_accuracy: 0.8761 - dense_4_accuracy: 0.8742 - dense_5_accuracy: 0.9944 - dense_6_accuracy: 0.8766 - de - ETA: 14:55 - loss: 2.1373 - dense_2_loss: 0.3486 - dense_3_loss: 0.3465 - dense_4_loss: 0.3499 - dense_5_loss: 0.0551 - dense_6_loss: 0.2687 - dense_7_loss: 0.1251 - dense_8_loss: 0.2939 - dense_9_loss: 0.3494 - dense_2_accuracy: 0.8748 - dense_3_accuracy: 0.8761 - dense_4_accuracy: 0.8743 - dense_5_accuracy: 0.9945 - dense_6_accuracy: 0.8765 - dens - ETA: 14:53 - loss: 2.1376 - dense_2_loss: 0.3487 - dense_3_loss: 0.3471 - dense_4_loss: 0.3500 - dense_5_loss: 0.0550 - dense_6_loss: 0.2685 - dense_7_loss: 0.1250 - dense_8_loss: 0.2935 - dense_9_loss: 0.3500 - dense_2_accuracy: 0.8748 - dense_3_accuracy: 0.8758 - dense_4_accuracy: 0.8743 - dense_5_accuracy: 0.9945 - dense_6_accuracy: 0.8766 - dense_7_accuracy: 0.9876 - dense_8_accuracy: 0.8740 - dense_9_accuracy: 0.87 - ETA: 14:53 - loss: 2.1376 - dense_2_loss: 0.3486 - dense_3_loss: 0.3470 - dense_4_loss: 0.3500 - dense_5_loss: 0.0550 - dense_6_loss: 0.2685 - dense_7_loss: 0.1250 - dense_8_loss: 0.2934 - dense_9_loss: 0.3500 - dense_2_accuracy: 0.8748 - dense_3_accuracy: 0.8758 - dense_4_accuracy: 0.8743 - dense_5_accuracy: 0.9945 - dense - ETA: 14:49 - loss: 2.1374 - dense_2_loss: 0.3492 - dense_3_loss: 0.3474 - dense_4_loss: 0.3493 - dense_5_loss: 0.0548 - dense_6_loss: 0.2688 - dense_7_loss: 0.1249 - dense_8_loss: 0.2934 - dense_9_loss: 0.3496 - dense_2_accuracy: 0.8745 - dense_3_accuracy: 0.8756 - dense_4_accuracy: 0.8747 - dense_5_ac - ETA: 14:45 - loss: 2.1374 - dense_2_loss: 0.3493 - dense_3_loss: 0.3482 - dense_4_loss: 0.3493 - dense_5_loss: 0.0547 - dense_6_loss: 0.2686 - dense_7_loss: 0.1250 - dense_8_loss: 0.2931 - dense_9_loss: 0.3493 - dense_2_accuracy: 0.8744 - dense_3_accuracy: 0.8751 - dense_4_accuracy: 0.8748 - dense_5_accuracy: 0.9946 - dense_6_accuracy: 0.8765 - dense_7_accuracy: 0.9876 - dense_8_accuracy: 0.8742  - ETA: 14:44 - loss: 2.1375 - dense_2_loss: 0.3493 - dense_3_loss: 0.3486 - dense_4_loss: 0.3492 - dense_5_loss: 0.0547 - dense_6_loss: 0.2684  - ETA: 14:36 - loss: 2.1369 - dense_2_loss: 0.3487 - dense_3_loss: 0.3491 - dense_4_loss: 0.3495 - dense_5_loss: 0.0541 - dense_6_loss: 0.2689 - dense_7_loss: 0.1252 - dense_8_loss: 0.2919 - dense_9_loss: 0.3495 - dense_2_accuracy: 0.8748 - dense_3_accuracy: 0.8746 - dense_4_accuracy: 0.8747 - dense_5_accuracy: 0.9948 - dense_6_accuracy: 0.8762 - dense_7_accuracy: 0.9875 - dense_8_accuracy: 0.8748 - dense_ - ETA: 14:36 - loss: 2.1371 - dense_2_loss: 0.3487 - dense_3_loss: 0.3493 - dense_4_loss: 0.3494 - dense_5_loss: 0.0541 - dense_6_loss: 0.2688 - dense_7_loss: 0.1250 - dense_8_loss: 0.2921 - dense_9_loss: 0.3496 - dense_2_accuracy: 0.8748 - dense_3_accuracy: 0.8744 - dense_4_accuracy: 0.8748 - dense_5_accuracy: 0.9948 - ETA: 14:31 - loss: 2.1376 - dense_2_loss: 0.3492 - dense_3_loss: 0.3494 - dense_4_loss: 0.3494 - dense_5_loss: 0.0539 - dense_6_loss: 0.2691 - dense_7_loss: 0.1251 - dense_8_loss: 0.2921 - dense_9_loss: 0.3494 - dense_2_accuracy: 0.8745 - dense_3_accuracy: 0.8744 - dense_4_accuracy: 0.8747 - dense_5_accuracy: 0.9949 - dense_6_accuracy: 0.8760 - dense_7_accuracy: 0.9874 - dense_8_accuracy: 0.8747 - dense_9_accuracy:  - ETA: 14:31 - loss: 2.1376 - dense_2_loss: 0.3493 - dense_3_loss: 0.3493 - dense_4_loss: 0.3494 - dense_5_loss: 0.0539 - dense_6_loss: 0.2691 - dense_7_loss: 0.1251 - dense_8_loss: 0.2921 - dense_9_loss: 0.3493 - dense_2_accuracy: 0.8745 - dense_3_accuracy: 0.8744 - dense_4_accuracy: 0.8747 - dense_5_accuracy: 0.9949 - dense_6_accuracy: 0.8759 - dense_7_accura - ETA: 14:30 - loss: 2.1375 - dense_2_loss: 0.3489 - dense_3_loss: 0.3495 - dense_4_loss: 0.3497 - dense_5_loss: 0.0538 - dense_6_loss: 0.2692 - dense_7_loss: 0.1250 - dense_8_loss: 0.2921 - dense_9_loss: 0.3492 - dense_2_accuracy: 0.8747 - dense_3_accuracy: 0.8743 - dense_4_accuracy: - ETA: 14:25 - loss: 2.1366 - dense_2_loss: 0.3483 - dense_3_loss: 0.3494 - dense_4_loss: 0.3497 - dense_5_loss: 0.0536 - dense_6_loss: 0.2695 - dense_7_loss: 0.1251 - dense_8_loss: 0.2919 - dense_9_loss: 0.3489 - d - ETA: 14:18 - loss: 2.1365 - dense_2_loss: 0.3484 - dense_3_loss: 0.3499 - dense_4_loss: 0.3507 - dense_5_loss: 0.0537 - dense_6_loss: 0.2687 - dense_7_loss: 0.1250 - dense_8_loss: 0.2914 - dense_9_loss: 0.3487 - dense_2_accuracy: 0.8750 - dense_3_accuracy: 0.8741 - dense_4_accuracy: 0.8740 - dense_5_accuracy: 0.9950 - dense_6_accuracy: 0.8765 - dense_7_accuracy: 0.9874 - dense_8_accuracy: 0.8751 - dense_9_accuracy: 0.8754 4535/10945 [===========>..................] - ETA: 9:38 - loss: 2.1298 - dense_2_loss: 0.3472 - dense_3_loss: 0.3486 - dense_4_loss: 0.3480 - dense_5_loss: 0.0535 - dense_6_loss: 0.2712 - dense_7_loss: 0.1209 - dense_8_loss: 0.2912 - dense_9_loss: 0.3491 - dense_2_accuracy: 0.8753 - dense_3_accuracy: 0.8746 - dense_4_accuracy: 0.8754 - dense_5_accuracy: 0.9925 - dense_6_accuracy: 0.8754 - dense_7_accuracy: 0.9876 - dense_8_accuracy: 0.8751 - dense_9_accuracy: 0.8749  ETA: 14:16 - loss: 2.1362 - dense_2_loss: 0.3483 - dense_3_loss: 0.3497 - dense_4_loss: 0.3508 - dense_5_loss: 0.0538 - dense_6_loss: 0.2689 - dense_7_loss: 0.1248 - dense_8_loss: 0.2914 - dense_9_loss: 0.3486 - dense_2_accuracy: 0.8750 - dense_3_accuracy: 0.8742 - dense_4_accuracy: 0.8740 - dense_5_accuracy: 0.9949 - dense_6_accuracy: 0.8765 - dense_7_accuracy: 0.9874 - dense_8_accuracy: 0.8752 - dense_9_accura - ETA: 14:15 - loss: 2.1362 - dense_2_loss: 0.3483 - dense_3_loss: 0.3497 - dense_4_loss: 0.3507 - dense_5_loss: 0.0538 - dense_6_loss: 0.2689 - dense_7_loss: 0.1248 - dense_8_loss: 0.2914 - dense_9_loss: 0.3487 - dense_2_accuracy: 0.8750 - dense_3_accuracy: 0.8742 - dense_4_accuracy: 0.8740 - dense_5_accuracy: 0.9949 - dense_6_accuracy: 0.8765 - dense_7_accuracy: 0.9874 - dense_8_accuracy: 0.8752 - dense_9_accuracy: 0. - ETA: 14:15 - loss: 2.1362 - dense_2_loss: 0.3482 - dense_3_loss: 0.3497 - dense_4_loss: 0.3508 - dense_5_loss: 0.0538 - dense_6_loss: 0.2689 - dense_7_loss: 0.1248 - dense_8_loss: 0.2913 - dense_9_loss: 0.3487 - dense_2_accuracy: 0.875 - ETA: 14:05 - loss: 2.1363 - dense_2_loss: 0.3485 - dense_3_loss: 0.3494 - dense_4_loss: 0.3505 - dense_5_loss: 0.0541 - dense_6_loss: 0.2688 - dense_7_loss: 0. - ETA: 13:51 - loss: 2.1360 - dense_2_loss: 0.3485 - dense_3_loss: 0.3491 - dense_4_loss: 0.3509 - dense_5_loss: 0.0541 - dense_6_loss: 0.2688 - dense_7_loss: 0.1244 - dense_8_loss: 0.2910 - dense_9_loss: 0.3492 - dense_2_accuracy: 0.8749 - dense_3_accuracy: 0.8745 - ETA: 13:42 - loss: 2.1353 - dense_2_loss: 0.3483 - dense_3_loss: 0.3491 - dense_4_loss: 0.3504 - dense_5_loss: 0.0538 - dense_6_loss: 0.2695 - dense_7_loss: 0.1241 - dense_8_loss: 0.2911 - dense_9_loss: 0.3490 - dense_2_accuracy: 0.8750 - dense_3_accuracy: 0.8745 - dense_4_accuracy: 0.8742 - dense_5_accuracy: 0.9948 - dense_6_accuracy: 0.8758 - dense_7_accuracy: 0.9876 - dense_8_accuracy: 0.8755 - dense_9_accuracy:  - ETA: 13:42 - loss: 2.1353 - dense_2_loss: 0.3483 - dense_3_loss: 0.3491 - dense_4_loss: 0.3504 - dense_5_loss: 0.0538 - dense_6_loss: 0.2695 - dense_7_loss: 0.1241 - dense_8_loss: 0.2910 - dense_9_loss: 0.3490 - dense_2_accuracy: - ETA: 12:08 - loss - ETA: 11:51 - loss: 2.1308 - dense_2_loss: 0.3480 - dense_3_loss: 0.3493 - dense_4_loss: 0.3478 - dense_5_loss: 0.0501 - dense_6_loss: 0.2717 - dense_7_loss: 0.1231 - dense_8_loss: 0.2917 - dense_9_loss: 0.3491 - dense_2_accuracy: 0.8751 - dense_3_accuracy: 0.8743 - dense_4_acc - ETA: 11:44 - loss: 2.1305 - dense_2_loss: 0.3480 - dense_3_loss: 0.3493 - dense_4_loss: 0.3481 - dense_5_loss: 0.0498 - dense_6_loss: 0.2719 - dense_7_loss: 0.12 - ETA: 11:33 - loss: 2.1297 - dense_2_loss: 0.3481 - dense_3_loss: 0.3491 - dense_4_loss: 0.3481 - dense_5_loss: 0.0494 - dense_6_loss: 0.2718 - dense_7_loss: 0.1227 - dense_8_loss: 0.2919 - dense_9_loss: 0.3487 - dense_2_accuracy: 0.8751 - dense_3_accuracy: 0.8745 - dense_4_accuracy: 0.8754 - dense_5_accuracy: 0.9967 - dense_6_accuracy: 0.8753 - dense_7_accuracy: 0.9874 - dense_8_accuracy: 0.8751 - de - ETA: 11:32 - loss: 2.1297 - dense_2_loss: 0.3481 - dense_3_loss: 0.3490 - dense_4_loss: 0.3480 - dense_5_loss: 0.0493 - dense_6_loss: 0.2719 - dense_7_loss: 0.1227 - dense_8_loss: 0.2921 - dense_9_loss: 0.3487 - dense_2_accuracy: 0.8751 - dense_3_accuracy: 0.8745 - dense_4_accuracy: - ETA: 11:08 - loss: 2.1283 - dense_2_loss: 0.3475 - dense_3_loss: 0.3488 - dense_4_loss: 0.3478 - dense_5_loss: 0.0485 - dense_6_loss: 0.2725 - dense_7_loss: 0.1220 - dense_8_loss: 0.2922 - dense_9_loss: 0.3490 - dense_2_accuracy: 0.8753 - dense_3_accuracy: 0. - ETA: 11:01 - loss: 2.1279 - dense_2_loss: 0.3475 - dense_3_loss: 0.3488 - dense_4_loss: 0.3475 - dense_5_loss: 0.0483 - dense_6_loss: 0.2725 - dense_7_loss: 0.1219 - dense_8_loss: 0.2922 - dense_9_loss: 0.3491 - dense_2_accuracy: 0.8753 - dense_3_accuracy: 0.8745 - dense_4_accuracy: 0.8756 - dense_5_accuracy: 0.9970 - dense_6_accuracy: 0 - ETA: 10:57 - loss: 2.1275 - dense_2_loss: 0.3 - ETA: 10:42 - loss: 2.1269 - dense_2_loss: 0.3471 - dense_3_loss: 0.3486 - dense_4_loss: 0.3478 - dense_5_loss: 0.0477 - dense_6_loss: 0.2728 - dense_7_loss: 0.1216 - dense_8_loss: 0.2919 - dense_9_loss: 0.3494 - dense_2_accuracy: 0.8755 - dense_3_accuracy: 0.8745 - dense_4_accuracy: 0.8754 - dense_5_accu - ETA: 10:37 - loss: 2.1269 - dense_2_loss: 0.3472 - dense_3_loss: 0.3489 - dense_4_loss: 0.3479 - dense_5_loss: 0.0475 - dense_6_loss: 0.2728 - dense_7_loss: 0.1215 - dense_8_loss: 0.2916 - dense_9_loss: 0.3494 - dense_2_accuracy: 0.8754 - dense_3_accuracy:  - ETA: 10:30 - loss: 2.1265 - dense_2_loss: 0.3469 - dense_3_loss: 0.3489 - dense_4_loss: 0.3478 - dense_5_loss: 0.0473 - dense_6_loss: 0.2729 - dense_7_loss: 0.1215 - dense_8_loss: 0.2917 - dense_9_loss: 0.3496 - dense_2_accuracy: 0.8756 - dense_3_accuracy: 0.8744 - dense_4_accuracy: 0.8755 - dense_5_accuracy: 0.9973 - dense_6_accuracy: 0.8751 - dense_7_accuracy: 0.9876 - dense_8_accuracy: 0.875 - ETA: 10:29 - loss: 2.1264 - dense_2_loss: 0.3468 - dense_3_loss: 0.3489 - dense_4_loss: 0.3478 - dense_5_loss: 0.0473 - dense_6_loss: 0.2729 - dense_7_loss: 0.1215 - dense_8_loss: 0.2917 - dense_9_loss: 0.3496 - dense_2_accuracy: 0.8756 - dense_3_accuracy: 0.8744 - dense_4_accuracy: 0.8 - ETA: 10:23 - loss: 2.1261 - dense_2_loss: 0.3467 - dense_3_loss: 0.3488 - dense_4_loss: 0.3479 - dense_5_loss: 0.0471 - dense_6_loss: 0.2729 - dens - ETA: 10:12 - loss: 2.1261 - dense_2_loss: 0.3470 - dense_3_loss: 0.3488 - dense_4_loss: 0.3484 - dense_5_loss: 0.0467 - dense_6_loss: 0.2728 - dense_7_loss: 0.1215 - dense_8_loss: 0.2916 - dense_9_loss: 0.3494 - dense_2_a - ETA: 10:03 - loss: 2.1266 - dense_2_loss: 0.3471 - dense_3_loss: 0.3487 - dense_4_loss: 0.3481 - dense_5_loss: 0.0478 - dense_6_loss: 0.2727 - dense_7_loss: 0.1214 - dense_8_loss: 0.2915 - dense_9_loss: 0.3493 - dense_2_accuracy: 0.8754 - dense_3_accuracy: 0.8745 - dense_4_accuracy: 0.8753 - dense_5_accuracy: 0.9966 - dense_6_accuracy: 0.8753 - dense_7_accuracy: 0.9875 - dense_8_accuracy: 0.8752 - dense_9_accu - ETA: 10:03 - loss: 2.1268 - dense_2_loss: 0.3470 - dense_3_loss: 0.3488 - dense_4_loss: 0.3481 - dense_5_loss: 0.0481 - dense_6_loss: 0.2727 - dense_7_loss: 0.1213 - dense_8_loss: 0.2914 - dense_9_loss: 0.3493 - dense_2_accuracy: 0.8754 - dense_3_accuracy: 0.8745 - dense_4_accuracy: 0.8753 - dense_5_accuracy: 0.9964 - dense_6_accuracy: 0.8753 - dense_7_accuracy: 0.9875 - dense - ETA: 10:01 - loss: 2.1274 - dense_2_loss: 0.3470 - dense_3_loss: 0.3489 - dense_4_loss: 0.3481 - dense_5_loss: 0.0491 - dense_6_loss: 0.2725 - dense_7_loss: 0.1213 - dense_8_loss: 0.2914 - dense_9_loss: 0.3491 - dense_2_accuracy: 0.8755 - dense_3_accuracy: 0.8744 - dense_4_accuracy: 0.8753 - dense_5_accuracy: 0.995 - ETA: 9:53 - loss: 2.1298 - dense_2_loss: 0.3470 - dense_3_loss: 0.3488 - dense_4_loss: 0.3479 - dense_5_loss: 0.0527 - dense_6_loss: 0.2718 - dense_7_loss: 0.1211 - dense_8_loss: 0.2912 - dense_9_loss: 0.3492 - dense_2_accuracy: 0.8754 - dense_3_accuracy: 0.874 - ETA: 9:39 - loss: 2.1298 - dense_2_loss: 0.3472 - dense_3_loss: 0.3486 - dense_4_loss: 0.3480 - dense_5_loss: 0.0535 - dense_6_loss: 0.2713 - dense_7_loss: 0.1209 - dense_8_loss: 0.2912 - dense_9_loss: 0.3491 - dense_2_accuracy: 0.8754 - dense_3_accuracy: 0.8746 - dense_4_accuracy: 0.8753 - dense_5_accuracy: 0.9925 - dense_6_accuracy: 0.8754 - dense_7_accuracy: 0.9876 - dense_8_accuracy: 0.8752 - dense_9_accuracy: - ETA: 9:38 - loss: 2.1298 - dense_2_loss: 0.3472 - dense_3_loss: 0.3486 - dense_4_loss: 0.3480 - dense_5_loss: 0.0535 - dense_6_loss: 0.2712 - dense_7_loss: 0.1209 - dense_8_loss: 0.2913 - dense_9_loss: 0.3491 - dense_2_accuracy: 0.8754 - dense_3_accuracy: 0.8746 - dense_4_accuracy: 0.8754 - dense_5_accuracy: 0.9925 - dense_6_accuracy: 0.8754 - dense_7_accuracy: 0.9876 - dense_8_accuracy: 0.8751 - dense_9_accuracy: 0.874910945/10945 [==============================] - 961s 88ms/step - loss: 2.1074 - dense_2_loss: 0.3471 - dense_3_loss: 0.3475 - dense_4_loss: 0.3483 - dense_5_loss: 0.0425 - dense_6_loss: 0.2735 - dense_7_loss: 0.1113 - dense_8_loss: 0.2886 - dense_9_loss: 0.3486 - dense_2_accuracy: 0.8750 - dense_3_accuracy: 0.8750 - dense_4_accuracy: 0.8750 - dense_5_accuracy: 0.9969 - dense_6_accuracy: 0.8750 - dense_7_accuracy: 0.9894 - dense_8_accuracy: 0.8750 - dense_9_accuracy: 0.8750 - val_loss: 2.0796 - val_dense_2_loss: 0.3415 - val_dense_3_loss: 0.3522 - val_dense_4_loss: 0.3468 - val_dense_5_loss: 0.0257 - val_dense_6_loss: 0.2756 - val_dense_7_loss: 0.0979 - val_dense_8_loss: 0.2869 - val_dense_9_loss: 0.3531 - val_dense_2_accuracy: 0.8750 - val_dense_3_accuracy: 0.8750 - val_dense_4_accuracy: 0.8750 - val_dense_5_accuracy: 1.0000 - val_dense_6_accuracy: 0.8750 - val_dense_7_accuracy: 0.9826 - val_dense_8_accuracy: 0.8750 - val_dense_9_accuracy: 0.8750\n"
     ]
    }
   ],
   "source": [
    "history_lstm = model_lstm.fit(x_train, [y_train_cat[:,0],y_train_cat[:,1],y_train_cat[:,2],y_train_cat[:,3],y_train_cat[:,4],y_train_cat[:,5],y_train_cat[:,6],y_train_cat[:,7]],\n",
    "               batch_size=64,\n",
    "               epochs=5,\n",
    "               validation_data=(x_test, [y_test_cat[:,0],y_test_cat[:,1],y_test_cat[:,2],y_test_cat[:,3],y_test_cat[:,4],y_test_cat[:,5],y_test_cat[:,6],y_test_cat[:,7]]),\n",
    "               shuffle=True)"
   ]
  },
  {
   "cell_type": "code",
   "execution_count": 10,
   "metadata": {},
   "outputs": [
    {
     "name": "stderr",
     "output_type": "stream",
     "text": [
      "WARNING:absl:Found untraced functions such as lstm_cell_layer_call_fn, lstm_cell_layer_call_and_return_conditional_losses, lstm_cell_layer_call_fn, lstm_cell_layer_call_and_return_conditional_losses, lstm_cell_layer_call_and_return_conditional_losses while saving (showing 5 of 5). These functions will not be directly callable after loading.\n",
      "WARNING:absl:Found untraced functions such as lstm_cell_layer_call_fn, lstm_cell_layer_call_and_return_conditional_losses, lstm_cell_layer_call_fn, lstm_cell_layer_call_and_return_conditional_losses, lstm_cell_layer_call_and_return_conditional_losses while saving (showing 5 of 5). These functions will not be directly callable after loading.\n"
     ]
    },
    {
     "name": "stdout",
     "output_type": "stream",
     "text": [
      "INFO:tensorflow:Assets written to: LSTM_REP\\assets\n"
     ]
    },
    {
     "name": "stderr",
     "output_type": "stream",
     "text": [
      "INFO:tensorflow:Assets written to: LSTM_REP\\assets\n"
     ]
    }
   ],
   "source": [
    "model_lstm.save(\"LSTM_REP\")"
   ]
  },
  {
   "cell_type": "code",
   "execution_count": 10,
   "metadata": {},
   "outputs": [],
   "source": [
    "inputs = Input(shape=x_train.shape[1:])\n",
    "x = MLP_model(inputs)\n",
    "task1 = Dense(1, activation=\"sigmoid\")(x)\n",
    "task2 = Dense(1, activation=\"sigmoid\")(x)\n",
    "task3 = Dense(1, activation=\"sigmoid\")(x)\n",
    "task4 = Dense(1, activation=\"sigmoid\")(x)\n",
    "task5 = Dense(1, activation=\"sigmoid\")(x)\n",
    "task6 = Dense(1, activation=\"sigmoid\")(x)\n",
    "task7 = Dense(1, activation=\"sigmoid\")(x)\n",
    "task8 = Dense(1, activation=\"sigmoid\")(x)\n",
    "        \n",
    "model_mlp = Model(inputs = inputs, outputs = [task1, task2, task3, task4, task5, task6, task7, task8])\n",
    "opt = keras.optimizers.Adam(lr=0.001, beta_1=0.9, beta_2=0.999, epsilon=1e-08, decay=0.0)\n",
    "model_mlp.compile(loss='binary_crossentropy',\n",
    "              optimizer=opt,\n",
    "              metrics=['accuracy'])"
   ]
  },
  {
   "cell_type": "code",
   "execution_count": 11,
   "metadata": {},
   "outputs": [
    {
     "name": "stdout",
     "output_type": "stream",
     "text": [
      "Epoch 1/5\n",
      " 6736/10945 [=================>............] - ETA: 3:59 - loss: 3.8180 - dense_22_loss: 0.4779 - dense_23_loss: 0.4743 - dense_24_loss: 0.4744 - dense_25_loss: 0.4801 - dense_26_loss: 0.4764 - dense_27_loss: 0.4779 - dense_28_loss: 0.4786 - dense_29_loss: 0.4784 - dense_22_accuracy: 0.8675 - dense_23_accuracy: 0.8747 - dense_24_accuracy: 0.8758 - dense_25_accuracy: 0.8654 - dense_26_accuracy: 0.8681 - dense_27_accuracy: 0.8673 - dense_28_accuracy: 0.8666 - dense_29_accuracy: 0.8666  ETA: 10:36 - loss: 5.6484 - dense_22_loss: 0.7079 - dense_23_loss: 0.6409 - dense_24_loss: 0.6593 - den - ETA: 11:09 - loss: 5.4401 - dense_22_loss: 0.6810 - dense_23_loss: 0.6489 - dense_24_loss: 0.6576 - dense_25_loss: 0.7070 - dense_26_loss: 0.6729 - dense_27_loss: 0.6887 - dense_28_loss: 0. - ETA: 10:46 - loss: 5.3379 - dense_22_loss: 0.6682 - dense_23_loss: 0.6438 - dense_24_loss: 0.6502 - dense_25_loss: 0.6876 - dense_26_loss: 0.6621 - dense_27_loss:  - ETA: 10:37 - loss: 5.2408 - dense_22_loss: 0.6560 - dense_23_loss: 0.6362 - dense_24_loss: 0.6412 - dense_25_loss: 0.6716 - dense_26_loss: 0.6511 - dense_27_loss: 0.6601 - dense_28_loss: 0.6579 - dense_29_loss: 0.6668 - dense_22_accuracy: 0.8109 - dense_23_accuracy: 0.8739 - dense_24_accuracy: 0.8760 - dense_25_accuracy: 0.8019 - dense_26_accuracy: 0.8168 - dense_27_accuracy: 0.8061 - dense_28_accura - ETA: 10:37 - loss: 5.2283 - dense_22_loss: 0.6544 - dense_23_loss: 0.6351 - dense_24_loss: 0.6400 - dense_25_loss: 0.6696 - dense_26_loss: 0.6497 - dense_27_loss: 0.6584 - dense_28_loss: 0.6563 - dense_29_loss: 0.6649 - dense_22_accuracy: 0.8127 - dense_23_accuracy:  - ETA: 10:29 - loss: 5.1735 - dense_22_loss: 0.6475 - dense_23_loss: 0.6300 - dense_24_loss: 0.6344 - dense_25_ - ETA: 10:22 - loss: 5.0762 - dense_22_loss: 0.6352 - dense_23_loss: 0.6204 - dense_24_loss: 0.6240 - dense_2 - ETA: 10:03 - loss: 4.9683 - dense_22_loss: 0.6216 - dense_23_loss: 0.6090 - dense_24_loss: 0.6119 - dense_25_loss: 0.6318 - dense_26_loss: 0.6187 - dense_27_loss: 0.6239 - dense_28_loss: 0.6234 - dense_29_loss: 0.6279 - dense_22_accuracy: 0.8374 - dense_23_accuracy: 0.8744 - dense_24_accuracy: 0.8762 - ETA: 9:47 - loss: 4.9036 - dense_22_loss: 0.6135 - dense_23_loss: 0.6020 - dense_24_loss: 0.6045 - dense_25_loss: 0.6229 - dense_26_loss: 0.6107 - dense_27_loss: 0.6155 - dense_28_loss: 0.6153 - dense_29_loss: 0.6192 - dense_22_accuracy: 0.8412 - dense_23_accuracy: 0.8744 - dense_24_accuracy: 0.8763 - dense_25_accuracy: 0.8345 - dense_26_accuracy: 0.8436 - dense_27_accuracy: 0.8387 - dense_28_ac - ETA: 9:44 - loss: 4.8809 - dense_22_loss: 0.6106 - dense_23_loss: 0.5995 - dense_24_loss: 0.6018 - dense_25_loss: 0.6198 - dense_26_loss: 0.6080 - dense_27_loss: 0.6126 - dense_28_loss: 0.6125 - dense_29_loss: 0.6162 - dense_22_accuracy: 0.8424 - dense_23_accuracy: 0.8744 - dense_24_accuracy: 0.8 - ETA: 9:28 - loss: 4.8012 - dense_22_loss: 0.6005 - dense_23_loss: 0.5906 - dense_24_loss: 0.5925 - dense_25_loss: 0.6090 - dense_26_loss: 0.5982 - dense_27_loss: 0.6022 - dense_28_loss: 0.6025 - dense_29_loss: 0.6057 - dense_22_accuracy: 0.8462 - dense_23_accuracy: 0.8744 - dense_24_accuracy: 0.8763 - dense_25_accuracy: 0.8400 - dense_26_accuracy: 0. - ETA: 9:18 - loss: 4.7528 - dense_22_loss: 0.5945 - dense_23_loss: 0.5851 - dense_24_loss: 0.5868 - dense_25_loss: 0.6025 - dense_26_loss: 0.5923 - dense_27_loss: 0.5960 - dense_28_loss: 0.5965 - dense_29_loss: 0.5993 - dense_22_accuracy: 0.8481 - dense_23_accuracy: 0.8744 - dense_24_accuracy: 0.8764 - dense_25_accuracy: 0.8422 - dense_26_accuracy: 0.8498 - dense_27_accuracy: 0.8463 - dense_28_accuracy: 0.8465 - dense_29 - ETA: 9:18 - loss: 4.7461 - dense_22_loss: 0.5936 - dense_23_loss: 0.5843 - dense_24_loss: 0.5860 - dense_25_loss: 0.6016 - dense_26_loss: 0.5914 - dense_27_loss: 0.5951 - dense_28_loss: 0.5956 - dense_29_loss: 0.5984 - dense_22_accuracy: 0.8484 -  - - ETA: 5:39 - loss: 3.9918 - dense_22_loss: 0.4996 - dense_23_loss: 0.4951 - dense_24_loss: 0.4954 - dense_25_loss: 0.5028 - dense_26_loss: 0.4978 - dense_27_loss: 0.4995 - dense_28_loss: 0.5008 - dense_29_loss: 0.5007 - dense_22_accuracy: 0.8652 - dense_23_a - ETA: 5:26 - loss: 3.9661 - dense_22_loss: 0.4964 - dense_23_loss: 0.4920 - dense_24_loss: 0.4923 - dense_25_loss: 0.4995 - dense_26_loss: 0.4947 - dense_27_loss: 0.4963 - dense_28_loss: 0.4975 - dense_29_loss: 0.4974 - dense_22_accuracy: 0.8656 - dense_23_accuracy: 0.8748 - dense_24_accuracy: 0.8760 - dense_25_accuracy: 0.8629 - dense_26_accuracy: 0.86 - ETA: 5:20 - loss: 3.9544 - dense_22_loss: 0.4949 - dense_23_loss: 0.4906 - dense_24_loss: 0.4909 - dense_25_loss: 0.4980 - dense_26_loss: 0.4932 - dense_27_loss: 0.4948 - dense_28_loss: 0.4960 - dense_29_loss: 0.4959 - dense_22_accuracy: 0.8657 - dense_23_accuracy:  - ETA: 5:11 - loss: 3.9357 - dense_22_loss: 0.4926 - dense_23_loss: 0.4884 - dense_24_loss: 0.4886 - dense_25_loss: 0.4955 - dense_26_loss: 0.4909 - dense_27_loss: 0.4925 - dense_28_loss: 0.4936 - dense_29_loss: 0. - ETA: 4:59 - loss: 3.9125 - dense_22_loss: 0.4897 - dense_23_loss: 0.4856 - dense_24_loss: 0.4858 - dense_25_loss: 0.4925 - dense_26_loss: 0.4881 - dense_27_loss: 0.4896 - dense_28_loss: 0.4907 - dense_29_loss: 0.4905 - dense_22_accuracy: 0.8663 - dense_23_accuracy: 0.8748 - dense_24_accuracy: 0.8759 - dense_25_accuracy: 0.8638 - dense_26_accuracy: 0.8670 - dense_27 - ETA: 4:55 - loss: 3.9053 - dense_22_loss: 0.4887 - dense_23_loss: 0.4848 - dense_24_loss: 0.4850 - dense_25_loss: 0.4915 - dense_26_loss: 0.4872 - dense_27_loss: 0.4887 - dense_28_loss: 0.4897 - dense_29_loss: 0.4896 - dense_22_accuracy: 0.8664 - dense_23_accuracy: 0.8747 - dense_24_accuracy: 0.8759 - dense_25_accuracy: 0.8639 - dense_26_accuracy: 0.8671 - dense_27_accuracy: 0.8662 - dense_28_accuracy: 0.8653 -  - ETA: 4:53 - loss: 3.9029 - dense_22_loss: 0.4884 - dense_23_loss: 0.4845 - dense_24_loss: 0.4847 - dense_25_loss: 0.4912 - dense_26_loss: 0.4869 - dense_27_loss: 0.4884 - dense_28_loss: 0.4894 - dense_29_loss: 0.4893 - dense_22_accuracy: 0.8664 - dense_23_accuracy: 0.8747 - dense_24_accuracy: 0.8759 - dense_25_accuracy: 0.8640 - dense_26_accuracy: 0.8672 - dense_27_accuracy: 0.8662 - dense_28_accuracy: 0.8654 - dense_29_accuracy - ETA: 4:53 - loss: 3.9021 - dense_22_loss: 0.4883 - dense_23_loss: 0.4844 - dense_24_loss: 0.4846 - dense_25_loss: 0.4911 - dense_26_loss: 0.4868 - dense_27_loss: 0.4883 - dense_28_loss: 0.4893 - dense_29_loss: 0.4892 - dense_22_accuracy: 0.8665 - dense_23_accuracy: 0.8747 - dense_24_accuracy: 0.8759 - dense_25_accuracy: 0.8640 - dense_26_accuracy: 0.8672 - dense_27_accuracy: 0.8662 - dense_28_accuracy: 0.8654 - dense_29_ - ETA: 4:52 - loss: 3.9006 - dense_22_loss: 0.4882 - dense_23_loss: 0.4842 - dense_24_loss: 0.4844 - dense_25_loss: 0.4909 - dense_26_loss: 0.4866 - dense_27_loss: 0.4881 - dense_28_loss: 0.4891 - dense_29_loss: 0.4890 - dense_22_accuracy: 0.8665 - dense_23_accuracy: 0.8747 - dense_24_accuracy: 0.8759 - dense_25_accuracy: 0.8640 - dense_26_accuracy: 0.8672 - dense_ - ETA: 4:48 - loss: 3.8934 - dense_22_loss: 0.4873 - dense_23_loss: 0.4834 - dense_24_loss: 0.4835 - dense_25_loss: 0.4900 - dense_26_loss: 0.4857 - dense_27_loss: 0.4873 - dense_28_loss: 0.4882 - dense_29_loss: 0.4881 - dense_22_accurac - ETA: 4:13 - loss: 3.8366 - dense_22_loss: 0.4802 - dense_23_loss: 0.4765 - dense_24_loss: 0.4767 - dense_25_loss: 0.4825 - dense_26_loss: 0.4787 - dense_27_loss: 0.4802 - dense_28_loss: 0.4810 - dense_29_loss: 0.4807 - dense_22_accuracy: 0.8673 - dense_23_accuracy: 0.8747 - dense_24_accuracy: 0.8759 - dense_2 - ETA: 4:05 - loss: 3.8262 - dense_22_loss: 0.4789 - dense_23_loss: 0.4753 - dense_24_loss: 0.4754 - dense_25_loss: 0.4812 - dense_26_loss: 0.4774 - dense_27_loss: 0.4789 - dense_28_loss: 0.4797 - dense_29_loss: 0.4794 - dense_22_accuracy: 0.8674 - dense_23_accuracy: 0.8747 - dense_24_accuracy: 0.8758 - dense_25_accuracy: 0.8653 - dense_ - ETA: 4:00 - loss: 3.8181 - dense_22_loss: 0.4779 - dense_23_loss: 0.4743 - dense_24_loss: 0.4744 - dense_25_loss: 0.4801 - dense_26_loss: 0.4764 - dense_27_loss: 0.4779 - dense_28_loss: 0.4786 - dense_29_loss: 0.4784 - dense_22_accuracy: 0.8675 - dense_23_accuracy: 0.8747 - dense_24_accuracy: 0.8758 - dense_25_accuracy: 0.8654 - dense_26_accuracy: 0.8681 - dense_27_accuracy: 0.8673 - dense_28_accuracy: 0.8666 - dense_29_accuracy: 0.86610945/10945 [==============================] - 669s 61ms/step - loss: 3.5935 - dense_22_loss: 0.4497 - dense_23_loss: 0.4472 - dense_24_loss: 0.4473 - dense_25_loss: 0.4509 - dense_26_loss: 0.4487 - dense_27_loss: 0.4499 - dense_28_loss: 0.4500 - dense_29_loss: 0.4498 - dense_22_accuracy: 0.8701 - dense_23_accuracy: 0.8748 - dense_24_accuracy: 0.8756 - dense_25_accuracy: 0.8688 - dense_26_accuracy: 0.8705 - dense_27_accuracy: 0.8699 - dense_28_accuracy: 0.8695 - dense_29_accuracy: 0.8696 - val_loss: 3.0142 - val_dense_22_loss: 0.3768 - val_dense_23_loss: 0.3768 - val_dense_24_loss: 0.3768 - val_dense_25_loss: 0.3768 - val_dense_26_loss: 0.3768 - val_dense_27_loss: 0.3768 - val_dense_28_loss: 0.3768 - val_dense_29_loss: 0.3768 - val_dense_22_accuracy: 0.8750 - val_dense_23_accuracy: 0.8750 - val_dense_24_accuracy: 0.8750 - val_dense_25_accuracy: 0.8750 - val_dense_26_accuracy: 0.8750 - val_dense_27_accuracy: 0.8750 - val_dense_28_accuracy: 0.8750 - val_dense_29_accuracy: 0.8750\n",
      "Epoch 2/5\n",
      "10945/10945 [==============================] - 622s 57ms/step - loss: 3.0142 - dense_22_loss: 0.3764 - dense_23_loss: 0.3770 - dense_24_loss: 0.3773 - dense_25_loss: 0.3764 - dense_26_loss: 0.3771 - dense_27_loss: 0.3747 - dense_28_loss: 0.3771 - dense_29_loss: 0.3782 - dense_22_accuracy: 0.8752 - dense_23_accuracy: 0.8749 - dense_24_accuracy: 0.8747 - dense_25_accuracy: 0.8752 - dense_26_accuracy: 0.8748 - dense_27_accuracy: 0.8761 - dense_28_accuracy: 0.8748 - dense_29_accuracy: 0.8743 - val_loss: 3.0143 - val_dense_22_loss: 0.3768 - val_dense_23_loss: 0.3768 - val_dense_24_loss: 0.3768 - val_dense_25_loss: 0.3768 - val_dense_26_loss: 0.3768 - val_dense_27_loss: 0.3768 - val_dense_28_loss: 0.3768 - val_dense_29_loss: 0.3768 - val_dense_22_accuracy: 0.8750 - val_dense_23_accuracy: 0.8750 - val_dense_24_accuracy: 0.8750 - val_dense_25_accuracy: 0.8750 - val_dense_26_accuracy: 0.8750 - val_dense_27_accuracy: 0.8750 - val_dense_28_accuracy: 0.8750 - val_dense_29_accuracy: 0.8750\n",
      "Epoch 3/5\n"
     ]
    },
    {
     "name": "stdout",
     "output_type": "stream",
     "text": [
      "10945/10945 [==============================] - 644s 59ms/step - loss: 3.0142 - dense_22_loss: 0.3770 - dense_23_loss: 0.3769 - dense_24_loss: 0.3772 - dense_25_loss: 0.3775 - dense_26_loss: 0.3763 - dense_27_loss: 0.3771 - dense_28_loss: 0.3754 - dense_29_loss: 0.3767 - dense_22_accuracy: 0.8749 - dense_23_accuracy: 0.8750 - dense_24_accuracy: 0.8748 - dense_25_accuracy: 0.8746 - dense_26_accuracy: 0.8752 - dense_27_accuracy: 0.8748 - dense_28_accuracy: 0.8757 - dense_29_accuracy: 0.8750 - val_loss: 3.0142 - val_dense_22_loss: 0.3768 - val_dense_23_loss: 0.3768 - val_dense_24_loss: 0.3768 - val_dense_25_loss: 0.3768 - val_dense_26_loss: 0.3768 - val_dense_27_loss: 0.3768 - val_dense_28_loss: 0.3768 - val_dense_29_loss: 0.3768 - val_dense_22_accuracy: 0.8750 - val_dense_23_accuracy: 0.8750 - val_dense_24_accuracy: 0.8750 - val_dense_25_accuracy: 0.8750 - val_dense_26_accuracy: 0.8750 - val_dense_27_accuracy: 0.8750 - val_dense_28_accuracy: 0.8750 - val_dense_29_accuracy: 0.8750142 - dense_22_loss: 0.3800 - dense_23_loss: 0.3748 - dense_24_loss: 0.3774 - dense_25_loss: 0.3780 - dense_26_loss: 0.3760 - dense_27_loss: 0.3784 - dense_28_loss: 0.3717 - dense_29_loss: 0.3778 - dense_22_accuracy: 0.8733 - dense_23_accuracy: 0.8760 - dense_24_accuracy: 0.8747 - dense_25_accuracy: 0.8744 - dense_26_accuracy: 0.8754 - dense_27_accuracy: 0.8742 - dense_28_accuracy: 0.8776 - dense_29_a - ETA: 7:23 - loss: 3.0142 - dense_22_loss: 0.3800 - dense_23_loss: 0.3748 - dense_24_loss: 0.3774 - dense_25_loss: 0.3780 - dense_26_loss: 0.3760 - dense_27_loss: 0.3784 - dense_28_loss: 0.3718 - dense_29_loss: 0.3778 - den - ETA: 7:17 - loss: 3.0142 - dense_22_loss: 0.3798 - dense_23_loss: 0.3751 - dense_24_loss: 0.3774 - dense_25_loss: 0.3779 - dense_26_loss: 0.3760 - dense_27_loss: 0.3782 - dense_28_loss: 0.3721 - dense_29_loss: 0.3776 - dense_22_accuracy: 0.8735 - dense_23_accuracy: 0.8759 - dense_24_accuracy: 0.8747 - dense_25_accuracy: 0.8744 - dense_26_accuracy: 0.8754 - dense_27_accuracy: 0.8743 - dense_28_accuracy - ETA: 7:16 - loss: 3.0142 - dense_22_loss: 0.3797 - dense_23_loss: 0.3751 - dense_24_loss: 0.3774 - dense_25_loss: 0.3779 - dense_26_loss: 0.3760 - dense_27_loss: 0.3782 - dense_28_loss: 0.3722 - dense_29_loss: 0.3776 - dense_22_accuracy: 0.8735 - dense_23_accuracy: 0.8758 - dense_24_accura - ETA: 7:13 - loss: 3.0142 - dense_22_loss: 0.3796 - dense_23_loss: 0.3753 - dense_24_loss: 0.3774 - dense_25_loss: 0.3779 - dense_26_loss: 0.3760 - dense_27_loss: 0.3781 - dense_28_loss: 0.3723 - dense_29_loss: 0.3775 - dense_22_accuracy: 0.8736 - dense_23_accuracy: 0.8758 - dense_24_accuracy: 0.8747 - dense_25_accuracy: 0.8744 - dense_26_accuracy: 0.8754 - dense_27_accuracy: 0.8743 - dense_28_accuracy: 0.8773 - dense_29_ - ETA: 7:12 - loss: 3.0142 - dense_22_loss: 0.3796 - dense_23_loss: 0.3753 - dense_24_loss: 0.3774 - dense_25_loss: 0.3779 - dense_26_loss: 0.3760 - dense_27_loss: 0.3781 - dense_28_loss: 0.3724 - dense_29_loss: 0.3775 - dense_22_accuracy: 0.8736 - dense_23_accurac - ETA: 7:06 - loss: 3.0142 - dense_22_loss: 0.3794 - dense_23_loss: 0.3755 - dense_24_loss: 0.3775 - dense_25_loss: 0.3779 - dense_26_loss: 0.3760 - dense_27_loss: 0.3779 - dense_28_loss: 0.3725 - dense_29_loss: 0.3775 - dense_22_accuracy: 0.8736 - dense_23_accuracy: 0.8757 - dense_24_accuracy: 0.8746 - dense_25_accuracy: 0.8744 - dense_26_accuracy: 0.8754 - dense_27_accuracy: 0.8744 - dense_28_accuracy: 0.8772 - - ETA: 7:05 - loss: 3.0142 - dense_22_loss: 0.3794 - dense_23_loss: 0.3755 - dense_24_loss: 0.3775 - dense_25_loss: 0.3779 - dense_26_loss: 0.3760 - dense_27_loss: 0.3779 - dense_28_loss: 0.3725 - dense_29_loss: 0.3774 - dense_22_accuracy: 0.8736 - dense_23_accuracy: 0.8757 - dense_24_accuracy: 0.8746 - dense - ETA: 7:00 - loss: 3.0142 - dense_22_loss: 0.3793 - dense_23_loss: 0.3756 - dense_24_loss: 0.3775 - dense_25_loss: 0.3779 - dense_26_loss: 0.3760 - dense_27_loss: 0.3779 - dense_28_loss: 0.3727 - dense_29_loss: 0.3774 - dense_22_accuracy: 0.8737 - dense_23_accuracy: 0.8756 - dense_24_accuracy: 0.8747 - dense_25_accuracy: 0.8744 - de - ETA: 6:23 - loss: 3.0142 - dense_22_loss: 0.3790 - dense_23_loss: 0.3759 - dense_24_loss: 0.3774 - dense_25_loss: 0.3780 - dense_26_loss: 0.3758 - dense_27_loss: 0.3776 - dense_28_loss: 0.3732 - dense_29_loss: 0.3773 - dense_22_accuracy: 0.8739 - dense_23_accuracy: 0.8754 - dense_24_accuracy: 0.8747 - dense_25_accuracy: 0.8744 - dense_26_accur - ETA: 6:18 - loss: 3.0142 - dense_22_loss: 0.3789 - dense_23_loss: 0.3760 - dense_24_loss: 0.3774 - dense_25_loss: 0.3780 - dense_26_loss: 0.3758 - dense_27_loss: 0.3776 - dense_28_loss: 0.3733 - dense_29_loss: 0.3773 - dense_22_accuracy: 0.8739 - dense_23_accuracy: 0.8754 - dense_24_accuracy: 0.8747 - dense_25_accuracy: 0.8744 - dense_26_accuracy: 0.8755 - dense_27_accuracy: 0.8746 - dense_28_accuracy: 0.87 - ETA: 6:17 - loss: 3.0142 - dense_22_loss: 0.3789 - dense_23_loss: 0.3760 - dense_24_loss: 0.3774 - dense_25_loss: 0.3780 - dense_26_loss: 0.3758 - dense_27_loss: 0.3776 - dense_28_loss: 0.373 - ETA: 6:02 - loss: - ETA: 3s - loss: 3.0142 - dense_22_loss: 0.3770 - dense_23_loss: 0.3769 - dense_24_loss: 0.3772 - dense_25_loss: 0.3775 - dense_26_loss: 0.3763 - dense_27_loss: 0.3772 - dense_28_loss: 0.3754 - dense_29_loss: 0.3767 - dense_22_accuracy: 0.8749 - dense_23_accuracy: 0.8750 - dense_24_accuracy: 0.8748 - dense_25_accuracy: 0.8746 - dense_26_accuracy: 0.8752 - dense_27_accuracy: 0\n",
      "Epoch 4/5\n",
      "10945/10945 [==============================] - 653s 60ms/step - loss: 3.0143 - dense_22_loss: 0.3760 - dense_23_loss: 0.3773 - dense_24_loss: 0.3757 - dense_25_loss: 0.3771 - dense_26_loss: 0.3780 - dense_27_loss: 0.3765 - dense_28_loss: 0.3767 - dense_29_loss: 0.3770 - dense_22_accuracy: 0.8754 - dense_23_accuracy: 0.8747 - dense_24_accuracy: 0.8756 - dense_25_accuracy: 0.8749 - dense_26_accuracy: 0.8744 - dense_27_accuracy: 0.8752 - dense_28_accuracy: 0.8750 - dense_29_accuracy: 0.8749 - val_loss: 3.0143 - val_dense_22_loss: 0.3768 - val_dense_23_loss: 0.3768 - val_dense_24_loss: 0.3768 - val_dense_25_loss: 0.3768 - val_dense_26_loss: 0.3768 - val_dense_27_loss: 0.3768 - val_dense_28_loss: 0.3768 - val_dense_29_loss: 0.3768 - val_dense_22_accuracy: 0.8750 - val_dense_23_accuracy: 0.8750 - val_dense_24_accuracy: 0.8750 - val_dense_25_accuracy: 0.8750 - val_dense_26_accuracy: 0.8750 - val_dense_27_accuracy: 0.8750 - val_dense_28_accuracy: 0.8750 - val_dense_29_accuracy: 0.87508_loss: 0.3766 - dense_29_loss: 0.3773 - dense_22_accuracy: 0.8756 - dense_23_accuracy: 0.8745 - dense_24_accuracy: 0.8760 - dense_25_accuracy: 0.8747 - dense_26_accuracy: 0.8740 - dense_27_accuracy: 0.8753 - dense_28_accuracy: 0.8751 - dense_29 - ETA: 4:05 - loss: 3.0143 - dense_22_loss: 0.3756 - dense_23_loss: 0.3778 - dense_24_loss: 0.3748 - dense_25_loss: 0.3773 - dense_26_loss: 0.3788 - dense_27_loss: 0.3762 - dense_28_loss: 0.3766 - dense_29_loss: 0.3773 - dense_22_accuracy: 0.8756 - dense_23_accuracy: 0.8745 - dense_24_accuracy: 0.8760 - dense_25_accuracy: 0.8747 - dense_26_a - ETA: 4:01 - loss: 3.0143 - dense_22_loss: 0.3756 - dense_23_loss: 0.3777 - dense_24_loss: 0.3748 - dense_25_loss: 0.3773 - dense_26_loss: 0.3788 - dense_27_loss: 0.3762 - dense_28_loss: 0.3766 - dense_29_loss: 0.3773 - dense_22_accuracy: 0.8756 - dense_23_accuracy: 0.8745 - dense_24_accuracy: 0.8760 - dense_25_accuracy: 0.8748 - dense_26_accuracy: 0.8740 - dense_27_accuracy: 0.8753 - dense_2 - ETA: 3:59 - l - ETA: 3:40 - loss: 3.0143 - dense_22_loss: 0.3756 - dense_23_loss: 0.3777 - dense_24_loss: 0.3749 - dense_25_loss: 0.3772 - dense_26_loss: 0.3787 - dense_27_loss: 0.3763 - dense_28_loss: 0.3766 - dense_29_loss: 0.3772 - dense_22_accuracy: 0.8756 -  - ETA: 3:30 - loss: 3.0143 - dense_22_loss: 0.3756 - dense_23_loss: 0.3777 - dense_24_loss: 0.3750 - dense_25_loss: 0.3772 - dense_26_loss: 0.3786 - dense_27_loss: 0.3763 - dense_28_loss: 0.3766 - dense_29_loss: 0.3772 - dense_22_accuracy: 0.8756 - dense_23_accuracy: 0.8746 - dense_24_accuracy: 0.8759 - dense_25_accuracy: 0.8748 - dens - ETA: 3:25 - loss: 3.0143 - dense_22_loss: 0.3756 - dense_23_loss: 0.3776 - dense_24_loss: 0.3750 - dense_25_loss: 0.3772 - dense_26_loss: 0.3786 - dense_27_loss: 0.3763 - dense_28_loss: 0.3766 - dense_29_loss: 0.3772 - dense_22_accuracy: 0.8756 - dense_23_accuracy: 0.8746 - dense_24_accuracy: 0.8759 - dense_25_accuracy: 0.8748 - dense_26_accuracy: 0.8741  - ETA: 2:5 - ETA: 2:33 - loss: 3.0143 - dense_22_loss: 0.3757 - dense_23_loss: 0.3775 - dense_24_loss: 0 - ETA: 2:14 - loss: 3.0143 - dense_22_loss: 0.3757 - dense_23_loss: 0.3775 - dense_24_loss: 0.3754 - dense_25_loss: 0.3772 - dense_26_loss: 0.3783 - dense_27_loss: 0.3764 - dense_28_loss: 0.3767 - dense_29_loss: 0.3771 - dense_22_accuracy: 0.8755 - dense_23_accuracy: 0.8746 - dense_24_accuracy: 0.8757 - dense_25_accuracy: - ETA: 2:07 - loss: 3.0143 - dense_22_loss: 0.3758 - dense_23_loss: 0.3775 - dense_24_loss: 0.3754 - dense_25_loss: 0.3772 - dense_26_loss: 0.3783 - dense_27_loss: 0.3764 - dense_28_loss: 0.3767 - dense_29_loss: 0.3771 - dense_22_accuracy: 0.8755 - dense_23_accuracy: 0.8746 - dense_24_accuracy: 0.8757 - dense_25_ac\n",
      "Epoch 5/5\n",
      "10945/10945 [==============================] - 648s 59ms/step - loss: 3.0142 - dense_22_loss: 0.3757 - dense_23_loss: 0.3770 - dense_24_loss: 0.3757 - dense_25_loss: 0.3782 - dense_26_loss: 0.3761 - dense_27_loss: 0.3767 - dense_28_loss: 0.3781 - dense_29_loss: 0.3768 - dense_22_accuracy: 0.8756 - dense_23_accuracy: 0.8749 - dense_24_accuracy: 0.8756 - dense_25_accuracy: 0.8743 - dense_26_accuracy: 0.8754 - dense_27_accuracy: 0.8750 - dense_28_accuracy: 0.8743 - dense_29_accuracy: 0.8750 - val_loss: 3.0143 - val_dense_22_loss: 0.3768 - val_dense_23_loss: 0.3768 - val_dense_24_loss: 0.3768 - val_dense_25_loss: 0.3768 - val_dense_26_loss: 0.3768 - val_dense_27_loss: 0.3768 - val_dense_28_loss: 0.3768 - val_dense_29_loss: 0.3768 - val_dense_22_accuracy: 0.8750 - val_dense_23_accuracy: 0.8750 - val_dense_24_accuracy: 0.8750 - val_dense_25_accuracy: 0.8750 - val_dense_26_accuracy: 0.8750 - val_dense_27_accuracy: 0.8750 - val_dense_28_accuracy: 0.8750 - val_dense_29_accuracy: 0.8750\n"
     ]
    }
   ],
   "source": [
    "history_mlp = model_mlp.fit(x_train, [y_train_cat[:,0],y_train_cat[:,1],y_train_cat[:,2],y_train_cat[:,3],y_train_cat[:,4],y_train_cat[:,5],y_train_cat[:,6],y_train_cat[:,7]],\n",
    "               batch_size=64,\n",
    "               epochs=5,\n",
    "               validation_data=(x_test, [y_test_cat[:,0],y_test_cat[:,1],y_test_cat[:,2],y_test_cat[:,3],y_test_cat[:,4],y_test_cat[:,5],y_test_cat[:,6],y_test_cat[:,7]]),\n",
    "               shuffle=True)"
   ]
  },
  {
   "cell_type": "code",
   "execution_count": 12,
   "metadata": {},
   "outputs": [
    {
     "name": "stdout",
     "output_type": "stream",
     "text": [
      "INFO:tensorflow:Assets written to: MLP_REP\\assets\n"
     ]
    }
   ],
   "source": [
    "model_mlp.save(\"MLP_REP\")"
   ]
  },
  {
   "cell_type": "code",
   "execution_count": 6,
   "metadata": {},
   "outputs": [],
   "source": [
    "class SelfSupervisedModel():\n",
    "    def CNN(self, inputs):\n",
    "        x = Conv1D(5, kernel_size=3, strides=1)(inputs)\n",
    "        x = LeakyReLU()(x)\n",
    "        x = MaxPooling1D(pool_size=2, strides=2)(x)\n",
    "        x = Conv1D(10, kernel_size=4, strides=1)(x)\n",
    "        x = LeakyReLU()(x)\n",
    "        x = MaxPooling1D(pool_size=2, strides=2)(x)\n",
    "        x = Conv1D(20, kernel_size=4, strides=1)(x)\n",
    "        x = LeakyReLU()(x)\n",
    "        x = MaxPooling1D(pool_size=2, strides=2)(x)\n",
    "        x = Flatten()(x)\n",
    "        x = Dense(30)(x)\n",
    "        x = LeakyReLU()(x)\n",
    "        x = Dense(20)(x)\n",
    "        x = LeakyReLU()(x)\n",
    "        x = Dense(1, activation=\"sigmoid\")(x)\n",
    "        return x\n",
    "    \n",
    "    def LSTM(self, inputs):\n",
    "        x = LSTM(64)(inputs)\n",
    "        x = Dense(128, activation='relu')(x)\n",
    "        x = Dropout(0.3)(x)\n",
    "        x = Dense(1, activation='sigmoid')(x)\n",
    "        return x\n",
    "    \n",
    "    def MLP(self, inputs):\n",
    "        x = Dense(5)(inputs)\n",
    "        x = Dense(64, activation='relu')(x)\n",
    "        x = Dense(128, activation='relu')(x)\n",
    "        x = Dense(128, activation='relu')(x)\n",
    "        x = Dense(128, activation='relu')(x)\n",
    "        x = Dropout(0.2)(x)\n",
    "        x = Dense(64, activation='relu')(x)\n",
    "        x = Flatten()(x)\n",
    "        x = Dense(1, activation=\"sigmoid\")(x)\n",
    "        return x\n",
    "\n",
    "    def assemble(self, input_shape):\n",
    "        inputs = Input(shape=input_shape)\n",
    "        cnn = self.CNN(inputs)\n",
    "        lstm = self.LSTM(inputs)\n",
    "        mlp = self.MLP(inputs)\n",
    "        #x = Concatenate(axis=1)([cnn, lstm, mlp])\n",
    "        x = Average()([cnn, lstm, mlp])\n",
    "        \n",
    "        task1 = Dense(1, activation=\"sigmoid\")(x)\n",
    "        task2 = Dense(1, activation=\"sigmoid\")(x)\n",
    "        task3 = Dense(1, activation=\"sigmoid\")(x)\n",
    "        task4 = Dense(1, activation=\"sigmoid\")(x)\n",
    "        task5 = Dense(1, activation=\"sigmoid\")(x)\n",
    "        task6 = Dense(1, activation=\"sigmoid\")(x)\n",
    "        task7 = Dense(1, activation=\"sigmoid\")(x)\n",
    "        task8 = Dense(1, activation=\"sigmoid\")(x)\n",
    "        \n",
    "        model = Model(inputs = inputs, outputs = [task1, task2, task3, task4, task5, task6, task7, task8])\n",
    "        return model"
   ]
  },
  {
   "cell_type": "code",
   "execution_count": 7,
   "metadata": {
    "colab": {
     "base_uri": "https://localhost:8080/"
    },
    "id": "5KYuLdWcKhXE",
    "outputId": "6a73619b-9b59-4998-f71c-36181494e8ae"
   },
   "outputs": [
    {
     "name": "stdout",
     "output_type": "stream",
     "text": [
      "Model: \"model\"\n",
      "__________________________________________________________________________________________________\n",
      "Layer (type)                    Output Shape         Param #     Connected to                     \n",
      "==================================================================================================\n",
      "input_1 (InputLayer)            [(None, 187, 1)]     0                                            \n",
      "__________________________________________________________________________________________________\n",
      "conv1d (Conv1D)                 (None, 185, 5)       20          input_1[0][0]                    \n",
      "__________________________________________________________________________________________________\n",
      "leaky_re_lu (LeakyReLU)         (None, 185, 5)       0           conv1d[0][0]                     \n",
      "__________________________________________________________________________________________________\n",
      "max_pooling1d (MaxPooling1D)    (None, 92, 5)        0           leaky_re_lu[0][0]                \n",
      "__________________________________________________________________________________________________\n",
      "conv1d_1 (Conv1D)               (None, 89, 10)       210         max_pooling1d[0][0]              \n",
      "__________________________________________________________________________________________________\n",
      "leaky_re_lu_1 (LeakyReLU)       (None, 89, 10)       0           conv1d_1[0][0]                   \n",
      "__________________________________________________________________________________________________\n",
      "max_pooling1d_1 (MaxPooling1D)  (None, 44, 10)       0           leaky_re_lu_1[0][0]              \n",
      "__________________________________________________________________________________________________\n",
      "conv1d_2 (Conv1D)               (None, 41, 20)       820         max_pooling1d_1[0][0]            \n",
      "__________________________________________________________________________________________________\n",
      "dense_5 (Dense)                 (None, 187, 5)       10          input_1[0][0]                    \n",
      "__________________________________________________________________________________________________\n",
      "leaky_re_lu_2 (LeakyReLU)       (None, 41, 20)       0           conv1d_2[0][0]                   \n",
      "__________________________________________________________________________________________________\n",
      "dense_6 (Dense)                 (None, 187, 64)      384         dense_5[0][0]                    \n",
      "__________________________________________________________________________________________________\n",
      "max_pooling1d_2 (MaxPooling1D)  (None, 20, 20)       0           leaky_re_lu_2[0][0]              \n",
      "__________________________________________________________________________________________________\n",
      "dense_7 (Dense)                 (None, 187, 128)     8320        dense_6[0][0]                    \n",
      "__________________________________________________________________________________________________\n",
      "flatten (Flatten)               (None, 400)          0           max_pooling1d_2[0][0]            \n",
      "__________________________________________________________________________________________________\n",
      "dense_8 (Dense)                 (None, 187, 128)     16512       dense_7[0][0]                    \n",
      "__________________________________________________________________________________________________\n",
      "dense (Dense)                   (None, 30)           12030       flatten[0][0]                    \n",
      "__________________________________________________________________________________________________\n",
      "dense_9 (Dense)                 (None, 187, 128)     16512       dense_8[0][0]                    \n",
      "__________________________________________________________________________________________________\n",
      "leaky_re_lu_3 (LeakyReLU)       (None, 30)           0           dense[0][0]                      \n",
      "__________________________________________________________________________________________________\n",
      "lstm (LSTM)                     (None, 64)           16896       input_1[0][0]                    \n",
      "__________________________________________________________________________________________________\n",
      "dropout_1 (Dropout)             (None, 187, 128)     0           dense_9[0][0]                    \n",
      "__________________________________________________________________________________________________\n",
      "dense_1 (Dense)                 (None, 20)           620         leaky_re_lu_3[0][0]              \n",
      "__________________________________________________________________________________________________\n",
      "dense_3 (Dense)                 (None, 128)          8320        lstm[0][0]                       \n",
      "__________________________________________________________________________________________________\n",
      "dense_10 (Dense)                (None, 187, 64)      8256        dropout_1[0][0]                  \n",
      "__________________________________________________________________________________________________\n",
      "leaky_re_lu_4 (LeakyReLU)       (None, 20)           0           dense_1[0][0]                    \n",
      "__________________________________________________________________________________________________\n",
      "dropout (Dropout)               (None, 128)          0           dense_3[0][0]                    \n",
      "__________________________________________________________________________________________________\n",
      "flatten_1 (Flatten)             (None, 11968)        0           dense_10[0][0]                   \n",
      "__________________________________________________________________________________________________\n",
      "dense_2 (Dense)                 (None, 1)            21          leaky_re_lu_4[0][0]              \n",
      "__________________________________________________________________________________________________\n",
      "dense_4 (Dense)                 (None, 1)            129         dropout[0][0]                    \n",
      "__________________________________________________________________________________________________\n",
      "dense_11 (Dense)                (None, 1)            11969       flatten_1[0][0]                  \n",
      "__________________________________________________________________________________________________\n",
      "concatenate (Concatenate)       (None, 3)            0           dense_2[0][0]                    \n",
      "                                                                 dense_4[0][0]                    \n",
      "                                                                 dense_11[0][0]                   \n",
      "__________________________________________________________________________________________________\n",
      "dense_12 (Dense)                (None, 1)            4           concatenate[0][0]                \n",
      "__________________________________________________________________________________________________\n",
      "dense_13 (Dense)                (None, 1)            4           concatenate[0][0]                \n",
      "__________________________________________________________________________________________________\n",
      "dense_14 (Dense)                (None, 1)            4           concatenate[0][0]                \n",
      "__________________________________________________________________________________________________\n",
      "dense_15 (Dense)                (None, 1)            4           concatenate[0][0]                \n",
      "__________________________________________________________________________________________________\n",
      "dense_16 (Dense)                (None, 1)            4           concatenate[0][0]                \n",
      "__________________________________________________________________________________________________\n",
      "dense_17 (Dense)                (None, 1)            4           concatenate[0][0]                \n",
      "__________________________________________________________________________________________________\n",
      "dense_18 (Dense)                (None, 1)            4           concatenate[0][0]                \n",
      "__________________________________________________________________________________________________\n",
      "dense_19 (Dense)                (None, 1)            4           concatenate[0][0]                \n",
      "==================================================================================================\n",
      "Total params: 101,061\n",
      "Trainable params: 101,061\n",
      "Non-trainable params: 0\n",
      "__________________________________________________________________________________________________\n"
     ]
    }
   ],
   "source": [
    "model = SelfSupervisedModel().assemble(x_train.shape[1:])\n",
    "model.summary()"
   ]
  },
  {
   "cell_type": "code",
   "execution_count": 8,
   "metadata": {
    "colab": {
     "base_uri": "https://localhost:8080/",
     "height": 1000
    },
    "id": "i5mDeLoxMjba",
    "outputId": "1466f90e-a9be-4972-e0dc-ce129b499daf"
   },
   "outputs": [],
   "source": []
  },
  {
   "cell_type": "code",
   "execution_count": 9,
   "metadata": {
    "id": "Kq-eg-vvQFvL"
   },
   "outputs": [],
   "source": [
    "opt = keras.optimizers.Adam(lr=0.001, beta_1=0.9, beta_2=0.999, epsilon=1e-08, decay=0.0)\n",
    "model.compile(loss='binary_crossentropy',\n",
    "              optimizer=opt,\n",
    "              metrics=['accuracy'])"
   ]
  },
  {
   "cell_type": "code",
   "execution_count": 10,
   "metadata": {
    "id": "47Utq451Wng1"
   },
   "outputs": [
    {
     "name": "stdout",
     "output_type": "stream",
     "text": [
      "5473/5473 [==============================] - 1317s 240ms/step - loss: 3.2483 - dense_12_loss: 0.4159 - dense_13_loss: 0.3947 - dense_14_loss: 0.4351 - dense_15_loss: 0.3818 - dense_16_loss: 0.3711 - dense_17_loss: 0.3995 - dense_18_loss: 0.4408 - dense_19_loss: 0.4094 - dense_12_accuracy: 0.8431 - dense_13_accuracy: 0.8751 - dense_14_accuracy: 0.8345 - dense_15_accuracy: 0.8744 - dense_16_accuracy: 0.8751 - dense_17_accuracy: 0.8703 - dense_18_accuracy: 0.8124 - dense_19_accuracy: 0.8516 - val_loss: 2.6330 - val_dense_12_loss: 0.3659 - val_dense_13_loss: 0.3422 - val_dense_14_loss: 0.3736 - val_dense_15_loss: 0.2594 - val_dense_16_loss: 0.2902 - val_dense_17_loss: 0.3100 - val_dense_18_loss: 0.3336 - val_dense_19_loss: 0.3580 - val_dense_12_accuracy: 0.8750 - val_dense_13_accuracy: 0.8750 - val_dense_14_accuracy: 0.8750 - val_dense_15_accuracy: 0.8750 - val_dense_16_accuracy: 0.8750 - val_dense_17_accuracy: 0.8750 - val_dense_18_accuracy: 0.8750 - val_dense_19_accuracy: 0.8750\n"
     ]
    }
   ],
   "source": [
    "history = model.fit(x_train, [y_train_cat[:,0],y_train_cat[:,1],y_train_cat[:,2],y_train_cat[:,3],y_train_cat[:,4],y_train_cat[:,5],y_train_cat[:,6],y_train_cat[:,7]],\n",
    "               batch_size=128,\n",
    "               epochs=1,\n",
    "               validation_data=(x_test, [y_test_cat[:,0],y_test_cat[:,1],y_test_cat[:,2],y_test_cat[:,3],y_test_cat[:,4],y_test_cat[:,5],y_test_cat[:,6],y_test_cat[:,7]]),\n",
    "               shuffle=True)"
   ]
  },
  {
   "cell_type": "code",
   "execution_count": 12,
   "metadata": {},
   "outputs": [
    {
     "name": "stderr",
     "output_type": "stream",
     "text": [
      "WARNING:absl:Found untraced functions such as lstm_cell_layer_call_and_return_conditional_losses, lstm_cell_layer_call_fn, lstm_cell_layer_call_fn, lstm_cell_layer_call_and_return_conditional_losses, lstm_cell_layer_call_and_return_conditional_losses while saving (showing 5 of 5). These functions will not be directly callable after loading.\n",
      "WARNING:absl:Found untraced functions such as lstm_cell_layer_call_and_return_conditional_losses, lstm_cell_layer_call_fn, lstm_cell_layer_call_fn, lstm_cell_layer_call_and_return_conditional_losses, lstm_cell_layer_call_and_return_conditional_losses while saving (showing 5 of 5). These functions will not be directly callable after loading.\n"
     ]
    },
    {
     "name": "stdout",
     "output_type": "stream",
     "text": [
      "INFO:tensorflow:Assets written to: self_model10\\assets\n"
     ]
    },
    {
     "name": "stderr",
     "output_type": "stream",
     "text": [
      "INFO:tensorflow:Assets written to: self_model10\\assets\n"
     ]
    }
   ],
   "source": [
    "model.save(\"self_model\")"
   ]
  },
  {
   "cell_type": "code",
   "execution_count": null,
   "metadata": {},
   "outputs": [],
   "source": []
  }
 ],
 "metadata": {
  "accelerator": "GPU",
  "colab": {
   "collapsed_sections": [],
   "name": "self-supervised.ipynb",
   "provenance": []
  },
  "kernelspec": {
   "display_name": "Python 3",
   "language": "python",
   "name": "python3"
  },
  "language_info": {
   "codemirror_mode": {
    "name": "ipython",
    "version": 3
   },
   "file_extension": ".py",
   "mimetype": "text/x-python",
   "name": "python",
   "nbconvert_exporter": "python",
   "pygments_lexer": "ipython3",
   "version": "3.8.8"
  }
 },
 "nbformat": 4,
 "nbformat_minor": 1
}
